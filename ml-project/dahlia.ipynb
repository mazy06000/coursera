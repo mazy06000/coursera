{
 "cells": [
  {
   "cell_type": "code",
   "execution_count": 138,
   "metadata": {},
   "outputs": [],
   "source": [
    "import pandas as pd\n",
    "import faker\n",
    "import re"
   ]
  },
  {
   "cell_type": "code",
   "execution_count": 139,
   "metadata": {},
   "outputs": [
    {
     "data": {
      "text/html": [
       "<div>\n",
       "<style scoped>\n",
       "    .dataframe tbody tr th:only-of-type {\n",
       "        vertical-align: middle;\n",
       "    }\n",
       "\n",
       "    .dataframe tbody tr th {\n",
       "        vertical-align: top;\n",
       "    }\n",
       "\n",
       "    .dataframe thead th {\n",
       "        text-align: right;\n",
       "    }\n",
       "</style>\n",
       "<table border=\"1\" class=\"dataframe\">\n",
       "  <thead>\n",
       "    <tr style=\"text-align: right;\">\n",
       "      <th></th>\n",
       "      <th>org</th>\n",
       "    </tr>\n",
       "  </thead>\n",
       "  <tbody>\n",
       "    <tr>\n",
       "      <th>0</th>\n",
       "      <td>Movimento 5 Stelle</td>\n",
       "    </tr>\n",
       "    <tr>\n",
       "      <th>1</th>\n",
       "      <td>Lega</td>\n",
       "    </tr>\n",
       "    <tr>\n",
       "      <th>2</th>\n",
       "      <td>Partito Democratico</td>\n",
       "    </tr>\n",
       "    <tr>\n",
       "      <th>3</th>\n",
       "      <td>Forza Italia</td>\n",
       "    </tr>\n",
       "    <tr>\n",
       "      <th>4</th>\n",
       "      <td>Fratelli d'Italia</td>\n",
       "    </tr>\n",
       "    <tr>\n",
       "      <th>...</th>\n",
       "      <td>...</td>\n",
       "    </tr>\n",
       "    <tr>\n",
       "      <th>260</th>\n",
       "      <td>Unione Italiana Lavoratori del Tessile, Energi...</td>\n",
       "    </tr>\n",
       "    <tr>\n",
       "      <th>261</th>\n",
       "      <td>Unione italiana lavoratori della chimica, ener...</td>\n",
       "    </tr>\n",
       "    <tr>\n",
       "      <th>262</th>\n",
       "      <td>Unione Sindacale Italiana Poliziotti</td>\n",
       "    </tr>\n",
       "    <tr>\n",
       "      <th>263</th>\n",
       "      <td>Unità sindacale Falcri Silcea Sinfub</td>\n",
       "    </tr>\n",
       "    <tr>\n",
       "      <th>264</th>\n",
       "      <td>Unione Sindacale Italiana - Confederation Inte...</td>\n",
       "    </tr>\n",
       "  </tbody>\n",
       "</table>\n",
       "<p>265 rows × 1 columns</p>\n",
       "</div>"
      ],
      "text/plain": [
       "                                                   org\n",
       "0                                   Movimento 5 Stelle\n",
       "1                                                 Lega\n",
       "2                                  Partito Democratico\n",
       "3                                         Forza Italia\n",
       "4                                    Fratelli d'Italia\n",
       "..                                                 ...\n",
       "260  Unione Italiana Lavoratori del Tessile, Energi...\n",
       "261  Unione italiana lavoratori della chimica, ener...\n",
       "262               Unione Sindacale Italiana Poliziotti\n",
       "263              Unità sindacale Falcri Silcea Sinfub \n",
       "264  Unione Sindacale Italiana - Confederation Inte...\n",
       "\n",
       "[265 rows x 1 columns]"
      ]
     },
     "execution_count": 139,
     "metadata": {},
     "output_type": "execute_result"
    }
   ],
   "source": [
    "df_org = pd.read_csv('orgs.csv')\n",
    "df_org"
   ]
  },
  {
   "cell_type": "code",
   "execution_count": 200,
   "metadata": {},
   "outputs": [
    {
     "data": {
      "text/html": [
       "<div>\n",
       "<style scoped>\n",
       "    .dataframe tbody tr th:only-of-type {\n",
       "        vertical-align: middle;\n",
       "    }\n",
       "\n",
       "    .dataframe tbody tr th {\n",
       "        vertical-align: top;\n",
       "    }\n",
       "\n",
       "    .dataframe thead th {\n",
       "        text-align: right;\n",
       "    }\n",
       "</style>\n",
       "<table border=\"1\" class=\"dataframe\">\n",
       "  <thead>\n",
       "    <tr style=\"text-align: right;\">\n",
       "      <th></th>\n",
       "      <th>txnDesc</th>\n",
       "      <th>fdDescType</th>\n",
       "      <th>fdCode</th>\n",
       "    </tr>\n",
       "  </thead>\n",
       "  <tbody>\n",
       "    <tr>\n",
       "      <th>0</th>\n",
       "      <td>SUMUP *</td>\n",
       "      <td>1</td>\n",
       "      <td>3007</td>\n",
       "    </tr>\n",
       "    <tr>\n",
       "      <th>1</th>\n",
       "      <td>LA CAFFERIA</td>\n",
       "      <td>0</td>\n",
       "      <td>0</td>\n",
       "    </tr>\n",
       "    <tr>\n",
       "      <th>2</th>\n",
       "      <td>IONOS SE</td>\n",
       "      <td>0</td>\n",
       "      <td>0</td>\n",
       "    </tr>\n",
       "    <tr>\n",
       "      <th>3</th>\n",
       "      <td>AMAZON MAR ######</td>\n",
       "      <td>1</td>\n",
       "      <td>30</td>\n",
       "    </tr>\n",
       "    <tr>\n",
       "      <th>4</th>\n",
       "      <td>PLAYSTATION NETWORK</td>\n",
       "      <td>0</td>\n",
       "      <td>0</td>\n",
       "    </tr>\n",
       "    <tr>\n",
       "      <th>...</th>\n",
       "      <td>...</td>\n",
       "      <td>...</td>\n",
       "      <td>...</td>\n",
       "    </tr>\n",
       "    <tr>\n",
       "      <th>991354</th>\n",
       "      <td>IMPIO PASTICCERIA</td>\n",
       "      <td>0</td>\n",
       "      <td>0</td>\n",
       "    </tr>\n",
       "    <tr>\n",
       "      <th>991355</th>\n",
       "      <td>ISP       6368AVERSA</td>\n",
       "      <td>0</td>\n",
       "      <td>0</td>\n",
       "    </tr>\n",
       "    <tr>\n",
       "      <th>991356</th>\n",
       "      <td>SEPHORA 1047 MARCIANIS</td>\n",
       "      <td>0</td>\n",
       "      <td>0</td>\n",
       "    </tr>\n",
       "    <tr>\n",
       "      <th>991357</th>\n",
       "      <td>PAYPAL *</td>\n",
       "      <td>1</td>\n",
       "      <td>3001</td>\n",
       "    </tr>\n",
       "    <tr>\n",
       "      <th>991358</th>\n",
       "      <td>POP EMILIA ANDRIA</td>\n",
       "      <td>0</td>\n",
       "      <td>0</td>\n",
       "    </tr>\n",
       "  </tbody>\n",
       "</table>\n",
       "<p>991359 rows × 3 columns</p>\n",
       "</div>"
      ],
      "text/plain": [
       "                       txnDesc  fdDescType fdCode\n",
       "0                      SUMUP *           1   3007\n",
       "1                  LA CAFFERIA           0      0\n",
       "2                     IONOS SE           0      0\n",
       "3            AMAZON MAR ######           1     30\n",
       "4          PLAYSTATION NETWORK           0      0\n",
       "...                        ...         ...    ...\n",
       "991354       IMPIO PASTICCERIA           0      0\n",
       "991355    ISP       6368AVERSA           0      0\n",
       "991356  SEPHORA 1047 MARCIANIS           0      0\n",
       "991357                PAYPAL *           1   3001\n",
       "991358       POP EMILIA ANDRIA           0      0\n",
       "\n",
       "[991359 rows x 3 columns]"
      ]
     },
     "execution_count": 200,
     "metadata": {},
     "output_type": "execute_result"
    }
   ],
   "source": [
    "df = pd.read_csv('dahlia.csv')\\\n",
    "    .rename(columns={'CLEAN_TXN_STRING': 'txnDesc'})\n",
    "df['fdDescType'] = df['fdDescType'].replace([12,9], 1)\n",
    "df"
   ]
  },
  {
   "cell_type": "code",
   "execution_count": 201,
   "metadata": {},
   "outputs": [
    {
     "data": {
      "text/plain": [
       "0    818535\n",
       "1    172824\n",
       "Name: fdDescType, dtype: int64"
      ]
     },
     "execution_count": 201,
     "metadata": {},
     "output_type": "execute_result"
    }
   ],
   "source": [
    "df.fdDescType.value_counts()"
   ]
  },
  {
   "cell_type": "code",
   "execution_count": 202,
   "metadata": {},
   "outputs": [],
   "source": [
    "from random import randint\n",
    "import random\n",
    "fake = faker.Faker('it_IT')\n",
    "\n",
    "faking = {\n",
    "    'address': fake.address,\n",
    "    'iban': fake.iban,\n",
    "    'email': fake.email,\n",
    "    'ip': fake.ipv4,\n",
    "    'name': fake.name,\n",
    "    'honorific': lambda: fake.prefix() + ' ' + fake.name(),\n",
    "    'phone_number': fake.phone_number,\n",
    "    'credit_card': fake.credit_card_number,\n",
    "    'alphanumeric': lambda: fake.password(length=randint(5,13), special_chars=False, digits=True, upper_case=True, lower_case=True),\n",
    "    'numeric': lambda: fake.random_number(digits=randint(6,9)),\n",
    "}"
   ]
  },
  {
   "cell_type": "code",
   "execution_count": 203,
   "metadata": {},
   "outputs": [],
   "source": [
    "df['txnDesc'] = df['txnDesc'].apply(lambda x: df_org.sample(1).iloc[0][0] if pd.isna(x) else x)\n",
    "df['txnDesc'] = df['txnDesc'].apply(lambda x: x.lower())\n",
    "df['txnDesc'] = df['txnDesc'].apply(lambda x: re.sub(r'#+', str(faking['numeric']()), x) if re.search(r'#+', x) else x)\n",
    "df['txnDesc'] = df['txnDesc'].apply(lambda x: re.sub(r'ttttt+', str(faking['alphanumeric']()), x) if re.search(r'ttttt+', x) else x)\n",
    "df['txnDesc'] = df.apply(lambda row: row.txnDesc + ' ' + random.choice([str(faking[random.choice(list(faking.keys()))]()),'', '']) if re.search(r'30\\d{2}$', row.fdCode) else row.txnDesc, axis=1)\n",
    "df['txnDesc'] = df.apply(lambda row: str(faking['name']()) if re.search(r'<farmacia>', row.txnDesc) else row.txnDesc, axis=1)\n",
    "df['txnDesc'] = df.apply(lambda row: str(faking['name']()) if re.search(r'_____', row.txnDesc) else row.txnDesc, axis=1)\n",
    "df['fdDescType'] = df.apply(lambda row: '0' if re.search(r'[4-9]\\d{3}$', row.fdCode) else row.fdDescType, axis=1)\n",
    "df['fdDescType'] = df.apply(lambda row: '0' if re.search(r'30\\d{2}$', row.fdCode) and re.search(r' \\* $', row.txnDesc) else row.fdDescType, axis=1)\n",
    "df['txnDesc'] = df.apply(lambda row: row.txnDesc + ' ' + str(faking['name']()) if re.search(r'^\\d{3}$', row.fdCode) else row.txnDesc, axis=1)"
   ]
  },
  {
   "cell_type": "code",
   "execution_count": 204,
   "metadata": {},
   "outputs": [],
   "source": [
    "df.drop(columns=['fdCode'], inplace=True)\n",
    "df['fdDescType'] = df.fdDescType.astype(int)\n",
    "df = df.rename(columns={'fdDescType': 'target'})"
   ]
  },
  {
   "cell_type": "code",
   "execution_count": 205,
   "metadata": {},
   "outputs": [],
   "source": [
    "new_data = [{'txnDesc': fake.company() + ' ' + str(faking[random.choice(list(faking.keys()))]()), 'target': 1} for i in range(100000)]\n",
    "new_data.extend([{'txnDesc': str(faking[random.choice(list(faking.keys()))]()), 'target': 1} for i in range(100000)])\n",
    "df = df.append(pd.DataFrame(new_data), ignore_index=True)"
   ]
  },
  {
   "cell_type": "code",
   "execution_count": 206,
   "metadata": {},
   "outputs": [
    {
     "data": {
      "text/plain": [
       "0    873530\n",
       "1    317829\n",
       "Name: target, dtype: int64"
      ]
     },
     "execution_count": 206,
     "metadata": {},
     "output_type": "execute_result"
    }
   ],
   "source": [
    "df.target.value_counts()"
   ]
  },
  {
   "cell_type": "code",
   "execution_count": 208,
   "metadata": {},
   "outputs": [],
   "source": [
    "from sklearn.utils import resample\n",
    "\n",
    "n_samples = 350000\n",
    "\n",
    "dfs = [df[df.target == value] for value in df.target.unique()]\n",
    "\n",
    "dfs_resampled = [resample(df, replace=True, n_samples=n_samples) for df in dfs]\n",
    "\n",
    "df = pd.concat(dfs_resampled)"
   ]
  },
  {
   "cell_type": "code",
   "execution_count": 209,
   "metadata": {},
   "outputs": [
    {
     "data": {
      "text/plain": [
       "0    350000\n",
       "1    350000\n",
       "Name: target, dtype: int64"
      ]
     },
     "execution_count": 209,
     "metadata": {},
     "output_type": "execute_result"
    }
   ],
   "source": [
    "df.target.value_counts()"
   ]
  },
  {
   "cell_type": "code",
   "execution_count": 210,
   "metadata": {},
   "outputs": [],
   "source": [
    "df.to_csv('dataset.csv', index=False)"
   ]
  },
  {
   "cell_type": "code",
   "execution_count": 211,
   "metadata": {},
   "outputs": [],
   "source": [
    "df = pd.read_csv('dataset.csv')"
   ]
  },
  {
   "cell_type": "code",
   "execution_count": 223,
   "metadata": {},
   "outputs": [
    {
     "name": "stderr",
     "output_type": "stream",
     "text": [
      "[nltk_data] Downloading package stopwords to\n",
      "[nltk_data]     C:\\Users\\Mohamed\\AppData\\Roaming\\nltk_data...\n",
      "[nltk_data]   Package stopwords is already up-to-date!\n"
     ]
    }
   ],
   "source": [
    "import nltk\n",
    "from nltk.corpus import stopwords\n",
    "from nltk.tokenize import word_tokenize\n",
    "import re\n",
    "import string\n",
    "\n",
    "# Download the Italian stop words\n",
    "nltk.download('stopwords')\n",
    "stop_words = set(stopwords.words('italian'))\n",
    "\n",
    "def process_text(text):\n",
    "\n",
    "    text = text.lower()\n",
    "    \n",
    "    # Remove extra spaces\n",
    "    text = re.sub('\\s+', ' ', text)\n",
    "\n",
    "    text = re.sub('\\*+', ' ', text)\n",
    "    \n",
    "    # Tokenize the text\n",
    "    words = text.split()\n",
    "    \n",
    "    # Remove the stop words\n",
    "    words = [word for word in words if word not in stop_words]\n",
    "    \n",
    "    return ' '.join(words)\n",
    "\n",
    "df['processed_text'] = df.apply(lambda row: process_text(row.txnDesc), axis=1)"
   ]
  },
  {
   "cell_type": "code",
   "execution_count": 224,
   "metadata": {},
   "outputs": [
    {
     "data": {
      "text/html": [
       "<div>\n",
       "<style scoped>\n",
       "    .dataframe tbody tr th:only-of-type {\n",
       "        vertical-align: middle;\n",
       "    }\n",
       "\n",
       "    .dataframe tbody tr th {\n",
       "        vertical-align: top;\n",
       "    }\n",
       "\n",
       "    .dataframe thead th {\n",
       "        text-align: right;\n",
       "    }\n",
       "</style>\n",
       "<table border=\"1\" class=\"dataframe\">\n",
       "  <thead>\n",
       "    <tr style=\"text-align: right;\">\n",
       "      <th></th>\n",
       "      <th>txnDesc</th>\n",
       "      <th>target</th>\n",
       "      <th>processed_text</th>\n",
       "    </tr>\n",
       "  </thead>\n",
       "  <tbody>\n",
       "    <tr>\n",
       "      <th>0</th>\n",
       "      <td>paypal *</td>\n",
       "      <td>0</td>\n",
       "      <td>paypal</td>\n",
       "    </tr>\n",
       "    <tr>\n",
       "      <th>1</th>\n",
       "      <td>il ristorante pizzeria</td>\n",
       "      <td>0</td>\n",
       "      <td>ristorante pizzeria</td>\n",
       "    </tr>\n",
       "    <tr>\n",
       "      <th>2</th>\n",
       "      <td>windtre ricarica onlin</td>\n",
       "      <td>0</td>\n",
       "      <td>windtre ricarica onlin</td>\n",
       "    </tr>\n",
       "    <tr>\n",
       "      <th>3</th>\n",
       "      <td>scalapay ritmo shoes</td>\n",
       "      <td>0</td>\n",
       "      <td>scalapay ritmo shoes</td>\n",
       "    </tr>\n",
       "    <tr>\n",
       "      <th>4</th>\n",
       "      <td>mc donalds</td>\n",
       "      <td>0</td>\n",
       "      <td>mc donalds</td>\n",
       "    </tr>\n",
       "    <tr>\n",
       "      <th>...</th>\n",
       "      <td>...</td>\n",
       "      <td>...</td>\n",
       "      <td>...</td>\n",
       "    </tr>\n",
       "    <tr>\n",
       "      <th>699995</th>\n",
       "      <td>zurich insurance company ltd  13796384  sdd  a...</td>\n",
       "      <td>1</td>\n",
       "      <td>zurich insurance company ltd 13796384 sdd addd...</td>\n",
       "    </tr>\n",
       "    <tr>\n",
       "      <th>699996</th>\n",
       "      <td>Moschino-Modigliani Group Fabrizia Acerbi</td>\n",
       "      <td>1</td>\n",
       "      <td>moschino-modigliani group fabrizia acerbi</td>\n",
       "    </tr>\n",
       "    <tr>\n",
       "      <th>699997</th>\n",
       "      <td>zolivetti@example.net</td>\n",
       "      <td>1</td>\n",
       "      <td>zolivetti@example.net</td>\n",
       "    </tr>\n",
       "    <tr>\n",
       "      <th>699998</th>\n",
       "      <td>Lippomano-Paganini SPA 3542868720122562</td>\n",
       "      <td>1</td>\n",
       "      <td>lippomano-paganini spa 3542868720122562</td>\n",
       "    </tr>\n",
       "    <tr>\n",
       "      <th>699999</th>\n",
       "      <td>Aldobrandi, Barozzi e Zanzi s.r.l. Rosaria Lop...</td>\n",
       "      <td>1</td>\n",
       "      <td>aldobrandi, barozzi zanzi s.r.l. rosaria lopre...</td>\n",
       "    </tr>\n",
       "  </tbody>\n",
       "</table>\n",
       "<p>700000 rows × 3 columns</p>\n",
       "</div>"
      ],
      "text/plain": [
       "                                                  txnDesc  target  \\\n",
       "0                                               paypal *        0   \n",
       "1                                  il ristorante pizzeria       0   \n",
       "2                                  windtre ricarica onlin       0   \n",
       "3                                    scalapay ritmo shoes       0   \n",
       "4                                              mc donalds       0   \n",
       "...                                                   ...     ...   \n",
       "699995  zurich insurance company ltd  13796384  sdd  a...       1   \n",
       "699996          Moschino-Modigliani Group Fabrizia Acerbi       1   \n",
       "699997                              zolivetti@example.net       1   \n",
       "699998            Lippomano-Paganini SPA 3542868720122562       1   \n",
       "699999  Aldobrandi, Barozzi e Zanzi s.r.l. Rosaria Lop...       1   \n",
       "\n",
       "                                           processed_text  \n",
       "0                                                  paypal  \n",
       "1                                     ristorante pizzeria  \n",
       "2                                  windtre ricarica onlin  \n",
       "3                                    scalapay ritmo shoes  \n",
       "4                                              mc donalds  \n",
       "...                                                   ...  \n",
       "699995  zurich insurance company ltd 13796384 sdd addd...  \n",
       "699996          moschino-modigliani group fabrizia acerbi  \n",
       "699997                              zolivetti@example.net  \n",
       "699998            lippomano-paganini spa 3542868720122562  \n",
       "699999  aldobrandi, barozzi zanzi s.r.l. rosaria lopre...  \n",
       "\n",
       "[700000 rows x 3 columns]"
      ]
     },
     "execution_count": 224,
     "metadata": {},
     "output_type": "execute_result"
    }
   ],
   "source": [
    "df"
   ]
  },
  {
   "cell_type": "code",
   "execution_count": 225,
   "metadata": {},
   "outputs": [
    {
     "name": "stdout",
     "output_type": "stream",
     "text": [
      "(700000, 10000)\n"
     ]
    }
   ],
   "source": [
    "from sklearn.feature_extraction.text import TfidfVectorizer\n",
    "\n",
    "# Join the words back into a string\n",
    "# df['processed_text'] = df['processed_text'].apply(' '.join)\n",
    "\n",
    "# Create the transform\n",
    "vectorizer = TfidfVectorizer(ngram_range=(2, 3), max_features=10000)\n",
    "\n",
    "# Tokenize and build vocab\n",
    "vectorizer.fit(df['processed_text'])\n",
    "\n",
    "# Encode document\n",
    "vector = vectorizer.transform(df['processed_text'])\n",
    "\n",
    "# Summarize encoded vector\n",
    "print(vector.shape)"
   ]
  },
  {
   "cell_type": "code",
   "execution_count": 226,
   "metadata": {},
   "outputs": [
    {
     "name": "stdout",
     "output_type": "stream",
     "text": [
      "Fitting 5 folds for each of 1 candidates, totalling 5 fits\n",
      "F1 Score: 0.7459872587541823\n"
     ]
    }
   ],
   "source": [
    "from sklearn.model_selection import train_test_split, GridSearchCV\n",
    "from sklearn import svm\n",
    "from sklearn.metrics import f1_score\n",
    "#from cuml import SVC\n",
    "\n",
    "# Split the dataset into training and test sets\n",
    "X_train, X_test, y_train, y_test = train_test_split(vector, df['target'], test_size=0.3, random_state=42)\n",
    "\n",
    "# Define the SVM model\n",
    "clf = svm.SVC()\n",
    "\n",
    "# Define the parameter grid for GridSearchCV\n",
    "# param_grid = {'C': [0.1, 1, 10, 100], 'gamma': [1, 0.1, 0.01, 0.001], 'kernel': ['linear']} \n",
    "param_grid = {'C': [0.1], 'gamma': [1], 'kernel': ['linear']} \n",
    "\n",
    "# Use GridSearchCV for hyperparameter tuning\n",
    "grid = GridSearchCV(clf, param_grid, refit=True, verbose=4, n_jobs=-1)\n",
    "grid.fit(X_train, y_train)\n",
    "\n",
    "# Predict the labels for the test set\n",
    "y_pred = grid.predict(X_test)\n",
    "\n",
    "# Evaluate the model using the F1 score\n",
    "f1 = f1_score(y_test, y_pred, average='weighted')\n",
    "print(f'F1 Score: {f1}')"
   ]
  },
  {
   "cell_type": "code",
   "execution_count": 227,
   "metadata": {},
   "outputs": [
    {
     "name": "stdout",
     "output_type": "stream",
     "text": [
      "Recall: 0.7603714285714286\n"
     ]
    }
   ],
   "source": [
    "from sklearn.metrics import recall_score\n",
    "\n",
    "recall = recall_score(y_test, y_pred, average='weighted')\n",
    "print(f'Recall: {recall}')"
   ]
  },
  {
   "cell_type": "code",
   "execution_count": 228,
   "metadata": {},
   "outputs": [
    {
     "data": {
      "text/plain": [
       "['tfidf.pkl']"
      ]
     },
     "execution_count": 228,
     "metadata": {},
     "output_type": "execute_result"
    }
   ],
   "source": [
    "from joblib import dump\n",
    "\n",
    "# Save the model to a pickle file\n",
    "dump(grid, 'model.pkl')\n",
    "dump(vectorizer, 'tfidf.pkl')\n",
    "# dump(svd, 'svd.pkl')"
   ]
  },
  {
   "cell_type": "code",
   "execution_count": 134,
   "metadata": {},
   "outputs": [],
   "source": [
    "from joblib import load\n",
    "model = load('model.pkl')\n",
    "tfidf = load('tfidf.pkl')"
   ]
  },
  {
   "cell_type": "code",
   "execution_count": 240,
   "metadata": {},
   "outputs": [
    {
     "data": {
      "text/plain": [
       "array([0], dtype=int64)"
      ]
     },
     "execution_count": 240,
     "metadata": {},
     "output_type": "execute_result"
    }
   ],
   "source": [
    "txt = 'netflix d96h1ihO7'\n",
    "txt = process_text(txt)\n",
    "txt = tfidf.transform([txt])\n",
    "model.predict(txt)"
   ]
  },
  {
   "cell_type": "code",
   "execution_count": null,
   "metadata": {},
   "outputs": [],
   "source": []
  }
 ],
 "metadata": {
  "kernelspec": {
   "display_name": "base",
   "language": "python",
   "name": "python3"
  },
  "language_info": {
   "codemirror_mode": {
    "name": "ipython",
    "version": 3
   },
   "file_extension": ".py",
   "mimetype": "text/x-python",
   "name": "python",
   "nbconvert_exporter": "python",
   "pygments_lexer": "ipython3",
   "version": "3.9.7"
  }
 },
 "nbformat": 4,
 "nbformat_minor": 2
}
