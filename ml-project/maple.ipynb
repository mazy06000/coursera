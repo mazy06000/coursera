{
 "cells": [
  {
   "cell_type": "code",
   "execution_count": 4,
   "metadata": {},
   "outputs": [
    {
     "name": "stderr",
     "output_type": "stream",
     "text": [
      "Some weights of the model checkpoint at bert-base-cased were not used when initializing BertForSequenceClassification: ['cls.predictions.transform.LayerNorm.weight', 'cls.predictions.transform.LayerNorm.bias', 'cls.predictions.bias', 'cls.predictions.transform.dense.bias', 'cls.predictions.transform.dense.weight', 'cls.seq_relationship.weight', 'cls.seq_relationship.bias']\n",
      "- This IS expected if you are initializing BertForSequenceClassification from the checkpoint of a model trained on another task or with another architecture (e.g. initializing a BertForSequenceClassification model from a BertForPreTraining model).\n",
      "- This IS NOT expected if you are initializing BertForSequenceClassification from the checkpoint of a model that you expect to be exactly identical (initializing a BertForSequenceClassification model from a BertForSequenceClassification model).\n",
      "Some weights of BertForSequenceClassification were not initialized from the model checkpoint at bert-base-cased and are newly initialized: ['classifier.weight', 'classifier.bias']\n",
      "You should probably TRAIN this model on a down-stream task to be able to use it for predictions and inference.\n"
     ]
    },
    {
     "name": "stdout",
     "output_type": "stream",
     "text": [
      "String  amazon.com 123456  - Predicted label: 1\n",
      "String  amazon.com ref 123456  - Predicted label: 1\n",
      "String  amazon.com ref france  - Predicted label: 0\n",
      "String  amazon.com ref s6g5hr  - Predicted label: 1\n",
      "String  amazon.com ref france1  - Predicted label: 0\n",
      "String  paypal * alessandro  - Predicted label: 0\n",
      "String  paypal * zara  - Predicted label: 0\n",
      "String  booking.com  - Predicted label: 0\n",
      "String  booking.com rf GHB234  - Predicted label: 0\n",
      "String  booking.com ref GHB234  - Predicted label: 1\n",
      "String  paypal * zara ref  - Predicted label: 0\n",
      "String  paypal * 123456 ref  - Predicted label: 1\n",
      "String  paypal * 123456  - Predicted label: 1\n"
     ]
    }
   ],
   "source": [
    "import pandas as pd\n",
    "import numpy as np\n",
    "import torch\n",
    "from transformers import BertTokenizer, BertForSequenceClassification\n",
    "\n",
    "def load_model(model_name, model_path):\n",
    "    device = torch.device('cuda:0' if torch.cuda.is_available() else 'cpu')\n",
    "    model = BertForSequenceClassification.from_pretrained(model_name, num_labels=2)\n",
    "    model.load_state_dict(torch.load(model_path))\n",
    "    model.to(device)\n",
    "    model.eval()\n",
    "    return model, device\n",
    "\n",
    "def load_tokenizer(model_name):\n",
    "    tokenizer = BertTokenizer.from_pretrained(model_name, do_lower_case=False)\n",
    "    return tokenizer\n",
    "\n",
    "def predict_label(model, tokenizer, device, new_string):\n",
    "    inputs = tokenizer(new_string, return_tensors=\"pt\", max_length=13, truncation=True)\n",
    "    input_ids = inputs[\"input_ids\"].to(device)\n",
    "    attention_mask = inputs[\"attention_mask\"].to(device)\n",
    "\n",
    "    with torch.no_grad():\n",
    "        outputs = model(input_ids, attention_mask=attention_mask)\n",
    "        logits = outputs.logits\n",
    "\n",
    "    predicted_label = torch.argmax(logits, dim=1).item()\n",
    "    return predicted_label\n",
    "\n",
    "model_name = 'bert-base-cased'\n",
    "model_path = 'bert_model.pth'\n",
    "model, device = load_model(model_name, model_path)\n",
    "tokenizer = load_tokenizer(model_name)\n",
    "\n",
    "strings = [\"amazon.com 123456\",\"amazon.com ref 123456\",\"amazon.com ref france\",\"amazon.com ref s6g5hr\", \"amazon.com ref france1\",\"paypal * alessandro\",\"paypal * zara\",\"booking.com\",\"booking.com rf GHB234\",\"booking.com ref GHB234\",\"paypal * zara ref\",\"paypal * 123456 ref\",\"paypal * 123456\"]\n",
    "\n",
    "for new_string in strings:\n",
    "    predicted_label = predict_label(model, tokenizer, device, new_string)\n",
    "    print(\"String \",new_string, \" - Predicted label:\", predicted_label)"
   ]
  },
  {
   "cell_type": "code",
   "execution_count": 7,
   "metadata": {},
   "outputs": [
    {
     "data": {
      "text/html": [
       "<div>\n",
       "<style scoped>\n",
       "    .dataframe tbody tr th:only-of-type {\n",
       "        vertical-align: middle;\n",
       "    }\n",
       "\n",
       "    .dataframe tbody tr th {\n",
       "        vertical-align: top;\n",
       "    }\n",
       "\n",
       "    .dataframe thead th {\n",
       "        text-align: right;\n",
       "    }\n",
       "</style>\n",
       "<table border=\"1\" class=\"dataframe\">\n",
       "  <thead>\n",
       "    <tr style=\"text-align: right;\">\n",
       "      <th></th>\n",
       "      <th>post_mrt_clean_transaction_string</th>\n",
       "    </tr>\n",
       "  </thead>\n",
       "  <tbody>\n",
       "    <tr>\n",
       "      <th>0</th>\n",
       "      <td>0000nyctaxi7m41        brooklyn      ny</td>\n",
       "    </tr>\n",
       "    <tr>\n",
       "      <th>1</th>\n",
       "      <td>07958 436 109          bicester ox26 gbr</td>\n",
       "    </tr>\n",
       "    <tr>\n",
       "      <th>2</th>\n",
       "      <td>1 new parade              bournemout gbr</td>\n",
       "    </tr>\n",
       "    <tr>\n",
       "      <th>3</th>\n",
       "      <td>1 shore street          ulullapool   gbr</td>\n",
       "    </tr>\n",
       "    <tr>\n",
       "      <th>4</th>\n",
       "      <td>1 spring road           clclacton-on gbr</td>\n",
       "    </tr>\n",
       "    <tr>\n",
       "      <th>...</th>\n",
       "      <td>...</td>\n",
       "    </tr>\n",
       "    <tr>\n",
       "      <th>1725210</th>\n",
       "      <td>zin                    london        gbr</td>\n",
       "    </tr>\n",
       "    <tr>\n",
       "      <th>1725211</th>\n",
       "      <td>zipp mobility ltd      belfield, dub irl</td>\n",
       "    </tr>\n",
       "    <tr>\n",
       "      <th>1725212</th>\n",
       "      <td>znanje d.o.o.          21000 split   hrv</td>\n",
       "    </tr>\n",
       "    <tr>\n",
       "      <th>1725213</th>\n",
       "      <td>zoo sushi bubbletea    stratford-upo gbr</td>\n",
       "    </tr>\n",
       "    <tr>\n",
       "      <th>1725214</th>\n",
       "      <td>zucchini glasgow       glasgow       gbr</td>\n",
       "    </tr>\n",
       "  </tbody>\n",
       "</table>\n",
       "<p>1725215 rows × 1 columns</p>\n",
       "</div>"
      ],
      "text/plain": [
       "                post_mrt_clean_transaction_string\n",
       "0         0000nyctaxi7m41        brooklyn      ny\n",
       "1        07958 436 109          bicester ox26 gbr\n",
       "2        1 new parade              bournemout gbr\n",
       "3        1 shore street          ulullapool   gbr\n",
       "4        1 spring road           clclacton-on gbr\n",
       "...                                           ...\n",
       "1725210  zin                    london        gbr\n",
       "1725211  zipp mobility ltd      belfield, dub irl\n",
       "1725212  znanje d.o.o.          21000 split   hrv\n",
       "1725213  zoo sushi bubbletea    stratford-upo gbr\n",
       "1725214  zucchini glasgow       glasgow       gbr\n",
       "\n",
       "[1725215 rows x 1 columns]"
      ]
     },
     "execution_count": 7,
     "metadata": {},
     "output_type": "execute_result"
    }
   ],
   "source": [
    "df = pd.read_csv('maple.csv')\n",
    "df"
   ]
  },
  {
   "cell_type": "markdown",
   "metadata": {},
   "source": []
  },
  {
   "cell_type": "code",
   "execution_count": 8,
   "metadata": {},
   "outputs": [],
   "source": [
    "from tqdm import tqdm\n",
    "# tqdm for pandas\n",
    "tqdm.pandas()"
   ]
  },
  {
   "cell_type": "code",
   "execution_count": 9,
   "metadata": {},
   "outputs": [
    {
     "name": "stderr",
     "output_type": "stream",
     "text": [
      "100%|██████████| 1725215/1725215 [5:21:08<00:00, 89.54it/s]   \n"
     ]
    }
   ],
   "source": [
    "df['pii'] = df['post_mrt_clean_transaction_string'].progress_apply(lambda x: predict_label(model, tokenizer, device, x))"
   ]
  },
  {
   "cell_type": "code",
   "execution_count": 10,
   "metadata": {},
   "outputs": [
    {
     "data": {
      "text/plain": [
       "pii\n",
       "0    1671315\n",
       "1      53900\n",
       "dtype: int64"
      ]
     },
     "execution_count": 10,
     "metadata": {},
     "output_type": "execute_result"
    }
   ],
   "source": [
    "df.value_counts('pii')"
   ]
  },
  {
   "cell_type": "code",
   "execution_count": 12,
   "metadata": {},
   "outputs": [],
   "source": [
    "df.to_csv('maple_pii.csv', index=False)"
   ]
  },
  {
   "cell_type": "code",
   "execution_count": 13,
   "metadata": {},
   "outputs": [
    {
     "data": {
      "text/html": [
       "<div>\n",
       "<style scoped>\n",
       "    .dataframe tbody tr th:only-of-type {\n",
       "        vertical-align: middle;\n",
       "    }\n",
       "\n",
       "    .dataframe tbody tr th {\n",
       "        vertical-align: top;\n",
       "    }\n",
       "\n",
       "    .dataframe thead th {\n",
       "        text-align: right;\n",
       "    }\n",
       "</style>\n",
       "<table border=\"1\" class=\"dataframe\">\n",
       "  <thead>\n",
       "    <tr style=\"text-align: right;\">\n",
       "      <th></th>\n",
       "      <th>post_mrt_clean_transaction_string</th>\n",
       "      <th>pii</th>\n",
       "    </tr>\n",
       "  </thead>\n",
       "  <tbody>\n",
       "    <tr>\n",
       "      <th>0</th>\n",
       "      <td>0000nyctaxi7m41        brooklyn      ny</td>\n",
       "      <td>1</td>\n",
       "    </tr>\n",
       "    <tr>\n",
       "      <th>1</th>\n",
       "      <td>07958 436 109          bicester ox26 gbr</td>\n",
       "      <td>0</td>\n",
       "    </tr>\n",
       "    <tr>\n",
       "      <th>2</th>\n",
       "      <td>1 new parade              bournemout gbr</td>\n",
       "      <td>0</td>\n",
       "    </tr>\n",
       "    <tr>\n",
       "      <th>3</th>\n",
       "      <td>1 shore street          ulullapool   gbr</td>\n",
       "      <td>0</td>\n",
       "    </tr>\n",
       "    <tr>\n",
       "      <th>4</th>\n",
       "      <td>1 spring road           clclacton-on gbr</td>\n",
       "      <td>0</td>\n",
       "    </tr>\n",
       "    <tr>\n",
       "      <th>...</th>\n",
       "      <td>...</td>\n",
       "      <td>...</td>\n",
       "    </tr>\n",
       "    <tr>\n",
       "      <th>1725210</th>\n",
       "      <td>zin                    london        gbr</td>\n",
       "      <td>0</td>\n",
       "    </tr>\n",
       "    <tr>\n",
       "      <th>1725211</th>\n",
       "      <td>zipp mobility ltd      belfield, dub irl</td>\n",
       "      <td>0</td>\n",
       "    </tr>\n",
       "    <tr>\n",
       "      <th>1725212</th>\n",
       "      <td>znanje d.o.o.          21000 split   hrv</td>\n",
       "      <td>1</td>\n",
       "    </tr>\n",
       "    <tr>\n",
       "      <th>1725213</th>\n",
       "      <td>zoo sushi bubbletea    stratford-upo gbr</td>\n",
       "      <td>0</td>\n",
       "    </tr>\n",
       "    <tr>\n",
       "      <th>1725214</th>\n",
       "      <td>zucchini glasgow       glasgow       gbr</td>\n",
       "      <td>0</td>\n",
       "    </tr>\n",
       "  </tbody>\n",
       "</table>\n",
       "<p>1725215 rows × 2 columns</p>\n",
       "</div>"
      ],
      "text/plain": [
       "                post_mrt_clean_transaction_string  pii\n",
       "0         0000nyctaxi7m41        brooklyn      ny    1\n",
       "1        07958 436 109          bicester ox26 gbr    0\n",
       "2        1 new parade              bournemout gbr    0\n",
       "3        1 shore street          ulullapool   gbr    0\n",
       "4        1 spring road           clclacton-on gbr    0\n",
       "...                                           ...  ...\n",
       "1725210  zin                    london        gbr    0\n",
       "1725211  zipp mobility ltd      belfield, dub irl    0\n",
       "1725212  znanje d.o.o.          21000 split   hrv    1\n",
       "1725213  zoo sushi bubbletea    stratford-upo gbr    0\n",
       "1725214  zucchini glasgow       glasgow       gbr    0\n",
       "\n",
       "[1725215 rows x 2 columns]"
      ]
     },
     "execution_count": 13,
     "metadata": {},
     "output_type": "execute_result"
    }
   ],
   "source": [
    "df"
   ]
  },
  {
   "cell_type": "code",
   "execution_count": 23,
   "metadata": {},
   "outputs": [
    {
     "data": {
      "text/plain": [
       "'party\\\\sbritain|\\\\byorkshire\\\\sparty\\\\b|north\\\\seast\\\\spart|\\\\bgwlad\\\\b|churches\\\\stogether|islamophobia|\\\\bUnison\\\\b|\\\\bchristian\\\\b|(?!.*118118.*)[0-9\\\\*]{6,}[a-zA-Z0-9]{0,}|^\\\\s(m(?!(\\\\sand|\\\\s&|\\\\smotos|\\\\ss(?:pencer)?\\\\s))|mm(?!(\\\\se&))|mlle|mme)\\\\s(?:(?:[a-z]+ )+[a-z]+)|(?<=kindle\\\\s[a-z]{5})[a-z0-9\\\\*]{5,}|(?<=metapay\\\\s)[a-z0-9]{10}|(?<=uber\\\\s)[a-z0-9]{5}\\\\b|(?<=hillcrest_far\\\\s)[a-z0-9]{8}\\\\b|(?<=tuckers_grave\\\\s)[a-z0-9]{8}\\\\b|[a-z0-9]{8}(?=\\\\schance\\\\s)|[a-z0-9]{8}(?=\\\\stipsport\\\\.net)|(?<=riotgam\\\\*lol)\\\\s*[a-z0-9]{12}\\\\b|(?<=coins)\\\\s?\\\\+?[a-z0-9]{12}\\\\b|(?<=betsson\\\\*)[a-z0-9]{11}\\\\b|(?<=vertrieb\\\\sgmbh)\\\\s*[a-z0-9]{6}\\\\b|(?<!primaprix\\\\s)\\\\bdr[\\\\s\\\\.]+(?!martens |slot |juchheim |foodst |max |noodles |mobile|frankenstein|eckert )(?:\\\\*{5}\\\\s)?[a-z]{3,}(?:\\\\s[a-z]{3,})?|(?<=UBER)(?!\\\\s?TRIP|\\\\s?EAT|\\\\s?\\\\.c|fone)[^a-zA-Z0-9]{0,5}[a-zA-Z0-9]{3,}[^a-zA-Z0-9]|(?<=deezer\\\\s)[a-z0-9]{5,13}|ebay\\\\s?sale|toys\\\\s?r\\\\s?us|love\\\\s?crafts|\\\\bEvri\\\\b|\\\\bsmarty\\\\b|\\\\bZynga\\\\b|Bigfish\\\\s?games|virgin\\\\s?bet|rankinterac|nextltd|msthveideas|wwenetwork|itch\\\\s?pet|monopolycas|videoslotsl|jackpotjoy|sky\\\\s?bet|\\\\bM AND S\\\\b|\\\\btgi\\\\sfridays?\\\\b|telegraph\\\\smedia|lc\\\\s?internat|(?<!b&)\\\\bb\\\\.com\\\\b|\\\\bTIER CH\\\\b|\\\\b(?:\\\\d{3,4}[-/\\\\s]\\\\d{3,4}[-/\\\\s]\\\\d{2,4}(?:[-\\\\./\\\\s]\\\\d+)?|(?:\\\\d{2}-)?\\\\d{4,5}-\\\\d{4,5}|\\\\d{3}-\\\\d{2}-\\\\d{2}-\\\\d{4})\\\\b'"
      ]
     },
     "execution_count": 23,
     "metadata": {},
     "output_type": "execute_result"
    }
   ],
   "source": [
    "df_rules = pd.read_excel('pull_request_02_04_2024.xlsx')\n",
    "df_rules = df_rules[df_rules['WordToCheck'].notnull() | df_rules['Pattern'].notnull()]\n",
    "rules = '|'.join(df_rules['Pattern'].to_list())\n",
    "rules"
   ]
  },
  {
   "cell_type": "code",
   "execution_count": 26,
   "metadata": {},
   "outputs": [
    {
     "name": "stderr",
     "output_type": "stream",
     "text": [
      "C:\\Users\\Mohamed\\AppData\\Local\\Temp/ipykernel_4620/636355348.py:1: UserWarning: This pattern has match groups. To actually get the groups, use str.extract.\n",
      "  df['mrt_matches'] = np.where(df['post_mrt_clean_transaction_string'].str.contains(rf'{rules}'), 1, 0)\n"
     ]
    }
   ],
   "source": [
    "df['mrt_matches'] = np.where(df['post_mrt_clean_transaction_string'].str.contains(rf'{rules}'), 1, 0)"
   ]
  },
  {
   "cell_type": "code",
   "execution_count": 28,
   "metadata": {},
   "outputs": [
    {
     "data": {
      "text/plain": [
       "mrt_matches\n",
       "0    1713160\n",
       "1      12055\n",
       "dtype: int64"
      ]
     },
     "execution_count": 28,
     "metadata": {},
     "output_type": "execute_result"
    }
   ],
   "source": [
    "df.value_counts('mrt_matches')"
   ]
  },
  {
   "cell_type": "code",
   "execution_count": 42,
   "metadata": {},
   "outputs": [
    {
     "data": {
      "text/plain": [
       "22.37"
      ]
     },
     "execution_count": 42,
     "metadata": {},
     "output_type": "execute_result"
    }
   ],
   "source": [
    "round((df[df['mrt_matches']==1].shape[0] / df[df['pii']==1].shape[0])*100,2)"
   ]
  },
  {
   "cell_type": "code",
   "execution_count": 43,
   "metadata": {},
   "outputs": [
    {
     "data": {
      "text/plain": [
       "3.12"
      ]
     },
     "execution_count": 43,
     "metadata": {},
     "output_type": "execute_result"
    }
   ],
   "source": [
    "round((df[df['pii']==1].shape[0]/df.shape[0])*100,2)"
   ]
  },
  {
   "cell_type": "code",
   "execution_count": 44,
   "metadata": {},
   "outputs": [
    {
     "data": {
      "text/plain": [
       "0.7"
      ]
     },
     "execution_count": 44,
     "metadata": {},
     "output_type": "execute_result"
    }
   ],
   "source": [
    "round((df[df['mrt_matches']==1].shape[0]/df.shape[0])*100,2)"
   ]
  },
  {
   "cell_type": "code",
   "execution_count": 46,
   "metadata": {},
   "outputs": [],
   "source": [
    "df.to_csv('maple_pii_mrt.csv', index=False)"
   ]
  },
  {
   "cell_type": "code",
   "execution_count": 52,
   "metadata": {},
   "outputs": [
    {
     "data": {
      "text/html": [
       "<div>\n",
       "<style scoped>\n",
       "    .dataframe tbody tr th:only-of-type {\n",
       "        vertical-align: middle;\n",
       "    }\n",
       "\n",
       "    .dataframe tbody tr th {\n",
       "        vertical-align: top;\n",
       "    }\n",
       "\n",
       "    .dataframe thead th {\n",
       "        text-align: right;\n",
       "    }\n",
       "</style>\n",
       "<table border=\"1\" class=\"dataframe\">\n",
       "  <thead>\n",
       "    <tr style=\"text-align: right;\">\n",
       "      <th></th>\n",
       "      <th>post_mrt_clean_transaction_string</th>\n",
       "      <th>pii</th>\n",
       "      <th>mrt_matches</th>\n",
       "    </tr>\n",
       "  </thead>\n",
       "  <tbody>\n",
       "    <tr>\n",
       "      <th>20</th>\n",
       "      <td>1622-0227-sup.opencor  nueva andaluc esp</td>\n",
       "      <td>0</td>\n",
       "      <td>1</td>\n",
       "    </tr>\n",
       "    <tr>\n",
       "      <th>78</th>\n",
       "      <td>9246-0384-sup.ex. beni benidorm      esp</td>\n",
       "      <td>0</td>\n",
       "      <td>1</td>\n",
       "    </tr>\n",
       "    <tr>\n",
       "      <th>969</th>\n",
       "      <td>db vertrieb gmbh       lgu769        deu</td>\n",
       "      <td>0</td>\n",
       "      <td>1</td>\n",
       "    </tr>\n",
       "    <tr>\n",
       "      <th>2201</th>\n",
       "      <td>metapay 6wsjymke32     dublin        irl</td>\n",
       "      <td>0</td>\n",
       "      <td>1</td>\n",
       "    </tr>\n",
       "    <tr>\n",
       "      <th>4681</th>\n",
       "      <td>bandcamp tufstuf recor 402-935-7733  ca</td>\n",
       "      <td>0</td>\n",
       "      <td>1</td>\n",
       "    </tr>\n",
       "    <tr>\n",
       "      <th>...</th>\n",
       "      <td>...</td>\n",
       "      <td>...</td>\n",
       "      <td>...</td>\n",
       "    </tr>\n",
       "    <tr>\n",
       "      <th>1723229</th>\n",
       "      <td>bandcamp lewis jack in 402-935-7733  ca</td>\n",
       "      <td>0</td>\n",
       "      <td>1</td>\n",
       "    </tr>\n",
       "    <tr>\n",
       "      <th>1723747</th>\n",
       "      <td>garden cafe            0127 373 5187 gbr</td>\n",
       "      <td>0</td>\n",
       "      <td>1</td>\n",
       "    </tr>\n",
       "    <tr>\n",
       "      <th>1724860</th>\n",
       "      <td>tgi friday's           stockton on t gbr</td>\n",
       "      <td>0</td>\n",
       "      <td>1</td>\n",
       "    </tr>\n",
       "    <tr>\n",
       "      <th>1724861</th>\n",
       "      <td>tgi fridays            braintree 689 gbr</td>\n",
       "      <td>0</td>\n",
       "      <td>1</td>\n",
       "    </tr>\n",
       "    <tr>\n",
       "      <th>1725029</th>\n",
       "      <td>toys r us 3808         coquelles ced fra</td>\n",
       "      <td>0</td>\n",
       "      <td>1</td>\n",
       "    </tr>\n",
       "  </tbody>\n",
       "</table>\n",
       "<p>2266 rows × 3 columns</p>\n",
       "</div>"
      ],
      "text/plain": [
       "                post_mrt_clean_transaction_string  pii  mrt_matches\n",
       "20       1622-0227-sup.opencor  nueva andaluc esp    0            1\n",
       "78       9246-0384-sup.ex. beni benidorm      esp    0            1\n",
       "969      db vertrieb gmbh       lgu769        deu    0            1\n",
       "2201     metapay 6wsjymke32     dublin        irl    0            1\n",
       "4681      bandcamp tufstuf recor 402-935-7733  ca    0            1\n",
       "...                                           ...  ...          ...\n",
       "1723229   bandcamp lewis jack in 402-935-7733  ca    0            1\n",
       "1723747  garden cafe            0127 373 5187 gbr    0            1\n",
       "1724860  tgi friday's           stockton on t gbr    0            1\n",
       "1724861  tgi fridays            braintree 689 gbr    0            1\n",
       "1725029  toys r us 3808         coquelles ced fra    0            1\n",
       "\n",
       "[2266 rows x 3 columns]"
      ]
     },
     "execution_count": 52,
     "metadata": {},
     "output_type": "execute_result"
    }
   ],
   "source": [
    "df[(df['mrt_matches']==1) & (df['pii']==0)]"
   ]
  },
  {
   "cell_type": "code",
   "execution_count": null,
   "metadata": {},
   "outputs": [],
   "source": []
  }
 ],
 "metadata": {
  "kernelspec": {
   "display_name": "base",
   "language": "python",
   "name": "python3"
  },
  "language_info": {
   "codemirror_mode": {
    "name": "ipython",
    "version": 3
   },
   "file_extension": ".py",
   "mimetype": "text/x-python",
   "name": "python",
   "nbconvert_exporter": "python",
   "pygments_lexer": "ipython3",
   "version": "3.9.7"
  }
 },
 "nbformat": 4,
 "nbformat_minor": 2
}
