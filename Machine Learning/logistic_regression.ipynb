{
 "cells": [
  {
   "cell_type": "code",
   "execution_count": 1068,
   "metadata": {},
   "outputs": [],
   "source": [
    "import pandas as pd\n",
    "import numpy as np\n",
    "\n",
    "from sklearn.datasets import load_breast_cancer\n",
    "from sklearn.model_selection import train_test_split\n",
    "from sklearn.datasets import make_classification\n",
    "\n",
    "import matplotlib.pyplot as plt\n",
    "import seaborn as sns\n",
    "\n",
    "import umap\n",
    "import math\n",
    "\n",
    "import warnings\n",
    "warnings.filterwarnings('ignore')"
   ]
  },
  {
   "cell_type": "code",
   "execution_count": 836,
   "metadata": {},
   "outputs": [],
   "source": [
    "cancer = load_breast_cancer()\n",
    "data = pd.DataFrame(cancer.data)\n",
    "data.columns = cancer.feature_names\n",
    "data['target'] = cancer.target"
   ]
  },
  {
   "cell_type": "code",
   "execution_count": 837,
   "metadata": {},
   "outputs": [
    {
     "data": {
      "text/plain": [
       "Index(['mean radius', 'mean texture', 'mean perimeter', 'mean area',\n",
       "       'mean smoothness', 'mean compactness', 'mean concavity',\n",
       "       'mean concave points', 'mean symmetry', 'mean fractal dimension',\n",
       "       'radius error', 'texture error', 'perimeter error', 'area error',\n",
       "       'smoothness error', 'compactness error', 'concavity error',\n",
       "       'concave points error', 'symmetry error', 'fractal dimension error',\n",
       "       'worst radius', 'worst texture', 'worst perimeter', 'worst area',\n",
       "       'worst smoothness', 'worst compactness', 'worst concavity',\n",
       "       'worst concave points', 'worst symmetry', 'worst fractal dimension',\n",
       "       'target'],\n",
       "      dtype='object')"
      ]
     },
     "execution_count": 837,
     "metadata": {},
     "output_type": "execute_result"
    }
   ],
   "source": [
    "data.columns"
   ]
  },
  {
   "cell_type": "code",
   "execution_count": 838,
   "metadata": {},
   "outputs": [
    {
     "data": {
      "text/html": [
       "<div>\n",
       "<style scoped>\n",
       "    .dataframe tbody tr th:only-of-type {\n",
       "        vertical-align: middle;\n",
       "    }\n",
       "\n",
       "    .dataframe tbody tr th {\n",
       "        vertical-align: top;\n",
       "    }\n",
       "\n",
       "    .dataframe thead th {\n",
       "        text-align: right;\n",
       "    }\n",
       "</style>\n",
       "<table border=\"1\" class=\"dataframe\">\n",
       "  <thead>\n",
       "    <tr style=\"text-align: right;\">\n",
       "      <th></th>\n",
       "      <th>mean radius</th>\n",
       "      <th>mean texture</th>\n",
       "      <th>mean perimeter</th>\n",
       "      <th>mean area</th>\n",
       "      <th>mean smoothness</th>\n",
       "      <th>mean compactness</th>\n",
       "      <th>mean concavity</th>\n",
       "      <th>mean concave points</th>\n",
       "      <th>mean symmetry</th>\n",
       "      <th>mean fractal dimension</th>\n",
       "      <th>...</th>\n",
       "      <th>worst texture</th>\n",
       "      <th>worst perimeter</th>\n",
       "      <th>worst area</th>\n",
       "      <th>worst smoothness</th>\n",
       "      <th>worst compactness</th>\n",
       "      <th>worst concavity</th>\n",
       "      <th>worst concave points</th>\n",
       "      <th>worst symmetry</th>\n",
       "      <th>worst fractal dimension</th>\n",
       "      <th>target</th>\n",
       "    </tr>\n",
       "  </thead>\n",
       "  <tbody>\n",
       "    <tr>\n",
       "      <th>0</th>\n",
       "      <td>17.99</td>\n",
       "      <td>10.38</td>\n",
       "      <td>122.80</td>\n",
       "      <td>1001.0</td>\n",
       "      <td>0.11840</td>\n",
       "      <td>0.27760</td>\n",
       "      <td>0.3001</td>\n",
       "      <td>0.14710</td>\n",
       "      <td>0.2419</td>\n",
       "      <td>0.07871</td>\n",
       "      <td>...</td>\n",
       "      <td>17.33</td>\n",
       "      <td>184.60</td>\n",
       "      <td>2019.0</td>\n",
       "      <td>0.1622</td>\n",
       "      <td>0.6656</td>\n",
       "      <td>0.7119</td>\n",
       "      <td>0.2654</td>\n",
       "      <td>0.4601</td>\n",
       "      <td>0.11890</td>\n",
       "      <td>0</td>\n",
       "    </tr>\n",
       "    <tr>\n",
       "      <th>1</th>\n",
       "      <td>20.57</td>\n",
       "      <td>17.77</td>\n",
       "      <td>132.90</td>\n",
       "      <td>1326.0</td>\n",
       "      <td>0.08474</td>\n",
       "      <td>0.07864</td>\n",
       "      <td>0.0869</td>\n",
       "      <td>0.07017</td>\n",
       "      <td>0.1812</td>\n",
       "      <td>0.05667</td>\n",
       "      <td>...</td>\n",
       "      <td>23.41</td>\n",
       "      <td>158.80</td>\n",
       "      <td>1956.0</td>\n",
       "      <td>0.1238</td>\n",
       "      <td>0.1866</td>\n",
       "      <td>0.2416</td>\n",
       "      <td>0.1860</td>\n",
       "      <td>0.2750</td>\n",
       "      <td>0.08902</td>\n",
       "      <td>0</td>\n",
       "    </tr>\n",
       "    <tr>\n",
       "      <th>2</th>\n",
       "      <td>19.69</td>\n",
       "      <td>21.25</td>\n",
       "      <td>130.00</td>\n",
       "      <td>1203.0</td>\n",
       "      <td>0.10960</td>\n",
       "      <td>0.15990</td>\n",
       "      <td>0.1974</td>\n",
       "      <td>0.12790</td>\n",
       "      <td>0.2069</td>\n",
       "      <td>0.05999</td>\n",
       "      <td>...</td>\n",
       "      <td>25.53</td>\n",
       "      <td>152.50</td>\n",
       "      <td>1709.0</td>\n",
       "      <td>0.1444</td>\n",
       "      <td>0.4245</td>\n",
       "      <td>0.4504</td>\n",
       "      <td>0.2430</td>\n",
       "      <td>0.3613</td>\n",
       "      <td>0.08758</td>\n",
       "      <td>0</td>\n",
       "    </tr>\n",
       "    <tr>\n",
       "      <th>3</th>\n",
       "      <td>11.42</td>\n",
       "      <td>20.38</td>\n",
       "      <td>77.58</td>\n",
       "      <td>386.1</td>\n",
       "      <td>0.14250</td>\n",
       "      <td>0.28390</td>\n",
       "      <td>0.2414</td>\n",
       "      <td>0.10520</td>\n",
       "      <td>0.2597</td>\n",
       "      <td>0.09744</td>\n",
       "      <td>...</td>\n",
       "      <td>26.50</td>\n",
       "      <td>98.87</td>\n",
       "      <td>567.7</td>\n",
       "      <td>0.2098</td>\n",
       "      <td>0.8663</td>\n",
       "      <td>0.6869</td>\n",
       "      <td>0.2575</td>\n",
       "      <td>0.6638</td>\n",
       "      <td>0.17300</td>\n",
       "      <td>0</td>\n",
       "    </tr>\n",
       "    <tr>\n",
       "      <th>4</th>\n",
       "      <td>20.29</td>\n",
       "      <td>14.34</td>\n",
       "      <td>135.10</td>\n",
       "      <td>1297.0</td>\n",
       "      <td>0.10030</td>\n",
       "      <td>0.13280</td>\n",
       "      <td>0.1980</td>\n",
       "      <td>0.10430</td>\n",
       "      <td>0.1809</td>\n",
       "      <td>0.05883</td>\n",
       "      <td>...</td>\n",
       "      <td>16.67</td>\n",
       "      <td>152.20</td>\n",
       "      <td>1575.0</td>\n",
       "      <td>0.1374</td>\n",
       "      <td>0.2050</td>\n",
       "      <td>0.4000</td>\n",
       "      <td>0.1625</td>\n",
       "      <td>0.2364</td>\n",
       "      <td>0.07678</td>\n",
       "      <td>0</td>\n",
       "    </tr>\n",
       "  </tbody>\n",
       "</table>\n",
       "<p>5 rows × 31 columns</p>\n",
       "</div>"
      ],
      "text/plain": [
       "   mean radius  mean texture  mean perimeter  mean area  mean smoothness  \\\n",
       "0        17.99         10.38          122.80     1001.0          0.11840   \n",
       "1        20.57         17.77          132.90     1326.0          0.08474   \n",
       "2        19.69         21.25          130.00     1203.0          0.10960   \n",
       "3        11.42         20.38           77.58      386.1          0.14250   \n",
       "4        20.29         14.34          135.10     1297.0          0.10030   \n",
       "\n",
       "   mean compactness  mean concavity  mean concave points  mean symmetry  \\\n",
       "0           0.27760          0.3001              0.14710         0.2419   \n",
       "1           0.07864          0.0869              0.07017         0.1812   \n",
       "2           0.15990          0.1974              0.12790         0.2069   \n",
       "3           0.28390          0.2414              0.10520         0.2597   \n",
       "4           0.13280          0.1980              0.10430         0.1809   \n",
       "\n",
       "   mean fractal dimension  ...  worst texture  worst perimeter  worst area  \\\n",
       "0                 0.07871  ...          17.33           184.60      2019.0   \n",
       "1                 0.05667  ...          23.41           158.80      1956.0   \n",
       "2                 0.05999  ...          25.53           152.50      1709.0   \n",
       "3                 0.09744  ...          26.50            98.87       567.7   \n",
       "4                 0.05883  ...          16.67           152.20      1575.0   \n",
       "\n",
       "   worst smoothness  worst compactness  worst concavity  worst concave points  \\\n",
       "0            0.1622             0.6656           0.7119                0.2654   \n",
       "1            0.1238             0.1866           0.2416                0.1860   \n",
       "2            0.1444             0.4245           0.4504                0.2430   \n",
       "3            0.2098             0.8663           0.6869                0.2575   \n",
       "4            0.1374             0.2050           0.4000                0.1625   \n",
       "\n",
       "   worst symmetry  worst fractal dimension  target  \n",
       "0          0.4601                  0.11890       0  \n",
       "1          0.2750                  0.08902       0  \n",
       "2          0.3613                  0.08758       0  \n",
       "3          0.6638                  0.17300       0  \n",
       "4          0.2364                  0.07678       0  \n",
       "\n",
       "[5 rows x 31 columns]"
      ]
     },
     "execution_count": 838,
     "metadata": {},
     "output_type": "execute_result"
    }
   ],
   "source": [
    "data.head()"
   ]
  },
  {
   "cell_type": "code",
   "execution_count": 1730,
   "metadata": {},
   "outputs": [],
   "source": [
    "def sigmoid_function(z):\n",
    "    if z >= 0:\n",
    "        return 1 / (1 + np.exp(-z))\n",
    "    else:\n",
    "        return np.exp(z) / (1 + np.exp(z))\n",
    "\n",
    "def sigmoid(z):\n",
    "    return np.array([sigmoid_function(value) for value in z])\n",
    "\n",
    "def sigmoid(z):\n",
    "    return 1 / (1 + np.exp(-z))\n",
    "\n",
    "def cost_function(x, y, w, b):\n",
    "\n",
    "    z = np.dot(w,x.T) + b\n",
    "    y_hat = sigmoid(z)\n",
    "    cost = -np.mean(y * np.log(y_hat + 1e-9) + (1-y) * np.log(1 - y_hat + 1e-9))\n",
    "\n",
    "    return  cost\n",
    "\n",
    "def derivative_cost_function(x, y, w, b):\n",
    "\n",
    "    z = np.dot(w,x.T) + b\n",
    "    err = sigmoid(z) - y\n",
    "    d_cost_w = np.array([np.mean(feature) for feature in np.dot(x.T, err)])\n",
    "    d_cost_b = np.mean(err)\n",
    "\n",
    "    return d_cost_w, d_cost_b\n",
    "\n",
    "def gradient_descent(x, y, learning_rate, epocs=10):\n",
    "    m, n = x.shape\n",
    "    w = np.zeros((n,))\n",
    "    b = 0\n",
    "\n",
    "    learning_curve = []\n",
    "    w_history = []\n",
    "\n",
    "    for i in range(epocs):\n",
    "        d_cost_w, d_cost_b = derivative_cost_function(x, y, w, b)\n",
    "        w = w - learning_rate * d_cost_w\n",
    "        b = b - learning_rate * d_cost_b\n",
    "\n",
    "        learning_curve.append(cost_function(x, y, w, b))\n",
    "\n",
    "        # Print cost every at intervals 10 times or as many iterations if < 10\n",
    "        if i% math.ceil(epocs/10) == 0 or i == (epocs-1):\n",
    "            w_history.append(w)\n",
    "            print(f\"Iteration {i:4}: Cost {float(learning_curve[-1]):8.2f}, w {w if n==2 else None}, b {b}\")\n",
    "\n",
    "    return w, b, learning_curve, w_history\n",
    "\n",
    "\n",
    "def predict(x, w, b, threshold=0.5):\n",
    "    y_hat = sigmoid(np.dot(x,w) + b)\n",
    "    y_hat = (y_hat >= threshold).astype(int)\n",
    "    return y_hat\n",
    "\n",
    "def predict_proba(x, w, b):\n",
    "    y_proba = np.zeros((x.shape[0], 2))\n",
    "    y_hat = sigmoid(np.dot(x,w) + b)\n",
    "    y_proba[:, 1] = y_hat\n",
    "    y_proba[:, 0] = 1 - y_hat\n",
    "    return y_proba\n",
    "\n",
    "def accuracy(y, y_hat):\n",
    "    accuracy = np.sum(y == y_hat) / len(y)\n",
    "    return accuracy\n",
    "\n",
    "def normalize(x):\n",
    "    return (x - x.mean(axis=0)) / (x.std(axis=0) + 1e-8)\n",
    "\n",
    "\n",
    "def plot_decision_boundary(X, Y, w, b):\n",
    "    c = -b/w[1]\n",
    "    m = -w[0]/w[1]\n",
    "\n",
    "    xmin, xmax = X[:,0].min(), X[:,0].max()\n",
    "    ymin, ymax = X[:,1].min(), X[:,1].max()\n",
    "    xd = np.array([xmin, xmax])\n",
    "    yd = m * xd + c\n",
    "\n",
    "    plt.plot(xd, yd, 'k', lw=1, ls='--')\n",
    "    plt.fill_between(xd, yd, ymin, color='tab:blue', alpha=0.2)\n",
    "    plt.fill_between(xd, yd, ymax, color='tab:orange', alpha=0.2)\n",
    "\n",
    "    plt.scatter(*X[Y==0].T, s=8, alpha=0.5)\n",
    "    plt.scatter(*X[Y==1].T, s=8, alpha=0.5)\n",
    "    plt.xlim(xmin, xmax)\n",
    "    plt.ylim(ymin, ymax)\n",
    "    plt.ylabel(r'$x_2$')\n",
    "    plt.xlabel(r'$x_1$')\n",
    "\n",
    "def plot_results(X, y, learning_curve, w, b):\n",
    "    plt.figure(figsize = (20,6))\n",
    "\n",
    "    plt.subplot(1,2,1)\n",
    "    sns.lineplot(x=np.arange(len(learning_curve)),y=learning_curve)\n",
    "    plt.title('Learning Curve', fontsize = 20)\n",
    "\n",
    "    if X.shape[1] == 2:\n",
    "        plt.subplot(1,2,2)\n",
    "        plot_decision_boundary(X, y, w, b)\n",
    "        plt.title('Decision boundary', fontsize = 20)"
   ]
  },
  {
   "cell_type": "code",
   "execution_count": 1723,
   "metadata": {},
   "outputs": [],
   "source": [
    "X = data.drop(\"target\", axis=1).to_numpy()[:,:2]\n",
    "y = data['target'].to_numpy()"
   ]
  },
  {
   "cell_type": "code",
   "execution_count": 1724,
   "metadata": {},
   "outputs": [],
   "source": [
    "X_train, X_test, y_train, y_test = train_test_split(X, y, stratify=y,test_size = 0.3, random_state = 31)"
   ]
  },
  {
   "cell_type": "code",
   "execution_count": 1725,
   "metadata": {},
   "outputs": [],
   "source": [
    "X_train = normalize(X_train)\n",
    "X_test = normalize(X_test)"
   ]
  },
  {
   "cell_type": "code",
   "execution_count": 1726,
   "metadata": {},
   "outputs": [
    {
     "name": "stdout",
     "output_type": "stream",
     "text": [
      "Iteration    0: Cost     0.36, w [-1.41466299 -0.74838208], b 0.0012814070351758794\n",
      "Iteration  100: Cost     0.28, w [-3.85399569 -0.8311259 ], b 0.058204053076428584\n",
      "Iteration  200: Cost     0.28, w [-3.82048409 -0.8310176 ], b 0.10683880679415544\n",
      "Iteration  300: Cost     0.27, w [-3.78849372 -0.83097046], b 0.1517689842726334\n",
      "Iteration  400: Cost     0.27, w [-3.76111728 -0.83141585], b 0.19325271807747246\n",
      "Iteration  500: Cost     0.27, w [-3.73771881 -0.83225105], b 0.2315326968650221\n",
      "Iteration  600: Cost     0.27, w [-3.71773135 -0.83338704], b 0.266841373170151\n",
      "Iteration  700: Cost     0.27, w [-3.70066216 -0.83474878], b 0.2993994922071191\n",
      "Iteration  800: Cost     0.27, w [-3.68608552 -0.8362737 ], b 0.3294152107150253\n",
      "Iteration  900: Cost     0.27, w [-3.67363521 -0.83791008], b 0.35708369914243526\n",
      "Iteration  999: Cost     0.27, w [-3.66309565 -0.83959837], b 0.3823422291744633\n"
     ]
    }
   ],
   "source": [
    "learning_rate = 0.01\n",
    "epocs = 1000\n",
    "w, b, learning_curve, history_f_function = gradient_descent(X_train, y_train, learning_rate, epocs)"
   ]
  },
  {
   "cell_type": "code",
   "execution_count": 1727,
   "metadata": {},
   "outputs": [
    {
     "data": {
      "image/png": "[encoded data removed]",
      "text/plain": [
       "<Figure size 1440x432 with 2 Axes>"
      ]
     },
     "metadata": {
      "needs_background": "light"
     },
     "output_type": "display_data"
    }
   ],
   "source": [
    "plot_results(X_train, y_train, learning_curve, w, b)"
   ]
  },
  {
   "cell_type": "code",
   "execution_count": 1728,
   "metadata": {},
   "outputs": [
    {
     "data": {
      "text/plain": [
       "0.8819095477386935"
      ]
     },
     "execution_count": 1728,
     "metadata": {},
     "output_type": "execute_result"
    }
   ],
   "source": [
    "y_hat = predict(X_train, w, b)\n",
    "accuracy(y_train, y_hat)"
   ]
  },
  {
   "cell_type": "code",
   "execution_count": 1729,
   "metadata": {},
   "outputs": [
    {
     "data": {
      "text/plain": [
       "0.9122807017543859"
      ]
     },
     "execution_count": 1729,
     "metadata": {},
     "output_type": "execute_result"
    }
   ],
   "source": [
    "y_hat = predict(X_test, w, b)\n",
    "accuracy(y_test, y_hat)"
   ]
  },
  {
   "attachments": {},
   "cell_type": "markdown",
   "metadata": {},
   "source": [
    "## Logistic Regression Class"
   ]
  },
  {
   "cell_type": "code",
   "execution_count": 1761,
   "metadata": {},
   "outputs": [],
   "source": [
    "class LogisticRegression:\n",
    "\n",
    "    def __init__(self, epocs=100) -> None:\n",
    "        self.epocs = epocs\n",
    "        self.w = None\n",
    "        self.b = 0\n",
    "        self.learning_curve = []\n",
    "\n",
    "    def _sigmoid(self, z):\n",
    "        return 1 / (1 + np.exp(-z))\n",
    "\n",
    "    def _cost_function(self, x, y):\n",
    "\n",
    "        z = np.dot(self.w,x.T) + self.b\n",
    "        y_hat = self._sigmoid(z)\n",
    "        cost = -np.mean(y * np.log(y_hat + 1e-9) + (1-y) * np.log(1 - y_hat + 1e-9))\n",
    "\n",
    "        return cost\n",
    "\n",
    "    def _derivative_cost_function(self, X, y):\n",
    "\n",
    "        z = np.dot(self.w,X.T) + self.b\n",
    "        err = self._sigmoid(z) - y\n",
    "        d_cost_w = np.array([np.mean(feature) for feature in np.dot(X.T, err)])\n",
    "        d_cost_b = np.mean(err)\n",
    "\n",
    "        return d_cost_w, d_cost_b\n",
    "\n",
    "    def fit(self, X, y, learning_rate=1e-3) -> None:\n",
    "        m, n = X.shape\n",
    "        self.w = np.zeros((n,))\n",
    "        self.b = 0\n",
    "\n",
    "        for _ in range(self.epocs):\n",
    "            d_cost_w, d_cost_b = self._derivative_cost_function(X, y)\n",
    "            self.w = self.w - learning_rate * d_cost_w\n",
    "            self.b = self.b - learning_rate * d_cost_b\n",
    "\n",
    "            self.learning_curve.append(self._cost_function(X, y))\n",
    "\n",
    "    def predict(self, X, threshold=0.5):\n",
    "        y_hat = self._sigmoid(np.dot(self.w,X.T) + self.b)\n",
    "        y_hat = (y_hat >= threshold).astype(int)\n",
    "        return y_hat\n",
    "\n",
    "    def predict_proba(self, X):\n",
    "        y_proba = np.zeros((X.shape[0], 2))\n",
    "        y_hat = self._sigmoid(np.dot(self.w,X.T) + self.b)\n",
    "        y_proba[:, 1] = y_hat\n",
    "        y_proba[:, 0] = 1 - y_hat\n",
    "        return y_proba\n",
    "\n",
    "    def accuracy(self, y, y_hat):\n",
    "        accuracy = np.sum(y == y_hat) / len(y)\n",
    "        return accuracy\n"
   ]
  },
  {
   "attachments": {},
   "cell_type": "markdown",
   "metadata": {},
   "source": [
    "### Data"
   ]
  },
  {
   "cell_type": "code",
   "execution_count": 1783,
   "metadata": {},
   "outputs": [],
   "source": [
    "X = data.drop(\"target\", axis=1).to_numpy()[:,:2]\n",
    "y = data['target'].to_numpy()"
   ]
  },
  {
   "cell_type": "code",
   "execution_count": 1784,
   "metadata": {},
   "outputs": [],
   "source": [
    "X_train, X_test, y_train, y_test = train_test_split(X, y, stratify=y,test_size = 0.3, random_state = 31)"
   ]
  },
  {
   "cell_type": "code",
   "execution_count": 1785,
   "metadata": {},
   "outputs": [],
   "source": [
    "X_train = normalize(X_train)\n",
    "X_test = normalize(X_test)"
   ]
  },
  {
   "attachments": {},
   "cell_type": "markdown",
   "metadata": {},
   "source": [
    "### Training"
   ]
  },
  {
   "cell_type": "code",
   "execution_count": 1786,
   "metadata": {},
   "outputs": [],
   "source": [
    "lr = LogisticRegression()\n",
    "lr.fit(X_train, y_train)"
   ]
  },
  {
   "attachments": {},
   "cell_type": "markdown",
   "metadata": {},
   "source": [
    "### Evaluation"
   ]
  },
  {
   "cell_type": "code",
   "execution_count": 1787,
   "metadata": {},
   "outputs": [
    {
     "name": "stdout",
     "output_type": "stream",
     "text": [
      "Accuracy train: 0.8768844221105527\n",
      "Accuracy test: 0.8771929824561403\n"
     ]
    }
   ],
   "source": [
    "y_hat = lr.predict(X_train)\n",
    "print(\"Accuracy train:\", lr.accuracy(y_train, y_hat))\n",
    "y_hat = lr.predict(X_test)\n",
    "print(\"Accuracy test:\", lr.accuracy(y_test, y_hat))"
   ]
  },
  {
   "attachments": {},
   "cell_type": "markdown",
   "metadata": {},
   "source": [
    "### Learning Curve and Decision boundary"
   ]
  },
  {
   "cell_type": "code",
   "execution_count": 1788,
   "metadata": {},
   "outputs": [
    {
     "data": {
      "image/png": "[encoded data removed]",
      "text/plain": [
       "<Figure size 1440x432 with 2 Axes>"
      ]
     },
     "metadata": {
      "needs_background": "light"
     },
     "output_type": "display_data"
    }
   ],
   "source": [
    "plot_results(X_train, y_train, lr.learning_curve, lr.w, lr.b)"
   ]
  },
  {
   "cell_type": "code",
   "execution_count": null,
   "metadata": {},
   "outputs": [],
   "source": []
  }
 ],
 "metadata": {
  "kernelspec": {
   "display_name": "coursera",
   "language": "python",
   "name": "python3"
  },
  "language_info": {
   "codemirror_mode": {
    "name": "ipython",
    "version": 3
   },
   "file_extension": ".py",
   "mimetype": "text/x-python",
   "name": "python",
   "nbconvert_exporter": "python",
   "pygments_lexer": "ipython3",
   "version": "3.7.13"
  },
  "orig_nbformat": 4,
  "vscode": {
   "interpreter": {
    "hash": "be561da172f33ee1251194242ad49dea3f1840ae75dd2b1b1f6dca502e8bbcb8"
   }
  }
 },
 "nbformat": 4,
 "nbformat_minor": 2
}
