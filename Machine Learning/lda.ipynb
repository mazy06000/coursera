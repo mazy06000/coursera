{
 "cells": [
  {
   "cell_type": "code",
   "execution_count": 1,
   "metadata": {},
   "outputs": [
    {
     "data": {
      "image/png": "[encoded data removed]",
      "text/plain": [
       "<Figure size 576x432 with 1 Axes>"
      ]
     },
     "metadata": {
      "needs_background": "light"
     },
     "output_type": "display_data"
    }
   ],
   "source": [
    "import pandas as pd\n",
    "import matplotlib.pyplot as plt\n",
    "\n",
    "# Define the data for class 1 and 2\n",
    "data = {\n",
    "    'X1': [4, 2, 2, 3, 4, 9, 6, 9, 8, 10],\n",
    "    'X2': [1, 4, 3, 6, 4, 10, 8, 5, 7, 8],\n",
    "    'class': ['class_1', 'class_1', 'class_1', 'class_1', 'class_1', \n",
    "              'class_2', 'class_2', 'class_2', 'class_2', 'class_2']\n",
    "}\n",
    "\n",
    "# Create a dataframe\n",
    "df = pd.DataFrame(data)\n",
    "\n",
    "# Plot the data\n",
    "plt.figure(figsize=(8, 6))\n",
    "for class_type, color in zip(['class_1', 'class_2'], ['red', 'blue']):\n",
    "    plt.scatter(df[df['class'] == class_type]['X1'], df[df['class'] == class_type]['X2'], color=color, label=class_type)\n",
    "plt.xlabel('X1')\n",
    "plt.ylabel('X2')\n",
    "plt.legend()\n",
    "plt.grid(True)\n",
    "plt.show()\n"
   ]
  },
  {
   "attachments": {},
   "cell_type": "markdown",
   "metadata": {},
   "source": [
    "1. Calculate the mean of each feature for every class."
   ]
  },
  {
   "cell_type": "code",
   "execution_count": 2,
   "metadata": {},
   "outputs": [
    {
     "data": {
      "image/png": "[encoded data removed]",
      "text/plain": [
       "<Figure size 576x432 with 1 Axes>"
      ]
     },
     "metadata": {
      "needs_background": "light"
     },
     "output_type": "display_data"
    }
   ],
   "source": [
    "# Compute mean vectors for each class\n",
    "mean_vectors = df.groupby('class').mean()\n",
    "\n",
    "# Add mean vectors to the plot\n",
    "plt.figure(figsize=(8, 6))\n",
    "for class_type, color in zip(['class_1', 'class_2'], ['red', 'blue']):\n",
    "    plt.scatter(df[df['class'] == class_type]['X1'], df[df['class'] == class_type]['X2'], color=color, label=class_type)\n",
    "    plt.scatter(mean_vectors.loc[class_type]['X1'], mean_vectors.loc[class_type]['X2'], color=color, edgecolor='black', marker='D', s=100, label=f'{class_type} mean')\n",
    "\n",
    "plt.xlabel('X1')\n",
    "plt.ylabel('X2')\n",
    "plt.legend()\n",
    "plt.grid(True)\n",
    "plt.show()\n"
   ]
  },
  {
   "cell_type": "code",
   "execution_count": 3,
   "metadata": {},
   "outputs": [
    {
     "data": {
      "text/html": [
       "<div>\n",
       "<style scoped>\n",
       "    .dataframe tbody tr th:only-of-type {\n",
       "        vertical-align: middle;\n",
       "    }\n",
       "\n",
       "    .dataframe tbody tr th {\n",
       "        vertical-align: top;\n",
       "    }\n",
       "\n",
       "    .dataframe thead th {\n",
       "        text-align: right;\n",
       "    }\n",
       "</style>\n",
       "<table border=\"1\" class=\"dataframe\">\n",
       "  <thead>\n",
       "    <tr style=\"text-align: right;\">\n",
       "      <th></th>\n",
       "      <th>X1</th>\n",
       "      <th>X2</th>\n",
       "    </tr>\n",
       "    <tr>\n",
       "      <th>class</th>\n",
       "      <th></th>\n",
       "      <th></th>\n",
       "    </tr>\n",
       "  </thead>\n",
       "  <tbody>\n",
       "    <tr>\n",
       "      <th>class_1</th>\n",
       "      <td>3.0</td>\n",
       "      <td>3.6</td>\n",
       "    </tr>\n",
       "    <tr>\n",
       "      <th>class_2</th>\n",
       "      <td>8.4</td>\n",
       "      <td>7.6</td>\n",
       "    </tr>\n",
       "  </tbody>\n",
       "</table>\n",
       "</div>"
      ],
      "text/plain": [
       "          X1   X2\n",
       "class            \n",
       "class_1  3.0  3.6\n",
       "class_2  8.4  7.6"
      ]
     },
     "execution_count": 3,
     "metadata": {},
     "output_type": "execute_result"
    }
   ],
   "source": [
    "mean_vectors"
   ]
  },
  {
   "attachments": {},
   "cell_type": "markdown",
   "metadata": {},
   "source": [
    "2. Compute the within-class scatter matrix (SW): Measure the dispersion of data points within each class by calculating the sum of the squared differences between the individual data points and their corresponding class mean vectors."
   ]
  },
  {
   "cell_type": "code",
   "execution_count": 18,
   "metadata": {},
   "outputs": [
    {
     "name": "stdout",
     "output_type": "stream",
     "text": [
      "Within-class Scatter Matrix SW:\n",
      "[[13.2 -2.2]\n",
      " [-2.2 26.4]]\n"
     ]
    }
   ],
   "source": [
    "import numpy as np\n",
    "\n",
    "# Initialize scatter matrix\n",
    "SW = np.zeros((2,2))\n",
    "\n",
    "# Calculate scatter matrix for each class and add them to get SW\n",
    "for class_type in ['class_1', 'class_2']:\n",
    "    scatter_matrix = np.zeros((2,2))\n",
    "    mean_vector = mean_vectors.loc[class_type].values\n",
    "    class_data = df[df['class'] == class_type][['X1', 'X2']].values\n",
    "    for row in class_data:\n",
    "        row, mv = row.reshape(2,1), mean_vector.reshape(2,1) # make column vectors\n",
    "        scatter_matrix += (row-mv).dot((row-mv).T)\n",
    "    SW += scatter_matrix\n",
    "\n",
    "print(\"Within-class Scatter Matrix SW:\")\n",
    "print(SW)\n"
   ]
  },
  {
   "attachments": {},
   "cell_type": "markdown",
   "metadata": {},
   "source": [
    "3. Compute the between-class scatter matrix (SB): Measure the dispersion between different classes by calculating the sum of the squared differences between the class mean vectors and the overall mean vector. "
   ]
  },
  {
   "cell_type": "code",
   "execution_count": 23,
   "metadata": {},
   "outputs": [
    {
     "data": {
      "image/png": "[encoded data removed]",
      "text/plain": [
       "<Figure size 576x432 with 1 Axes>"
      ]
     },
     "metadata": {
      "needs_background": "light"
     },
     "output_type": "display_data"
    }
   ],
   "source": [
    "# Compute overall mean vector\n",
    "overall_mean = mean_vectors.mean()\n",
    "\n",
    "# Add overall mean vector and class-wise mean vectors to the plot\n",
    "plt.figure(figsize=(8, 6))\n",
    "for class_type, color in zip(['class_1', 'class_2'], ['red', 'blue']):\n",
    "    plt.scatter(df[df['class'] == class_type]['X1'], df[df['class'] == class_type]['X2'], color=color, label=class_type)\n",
    "    plt.scatter(mean_vectors.loc[class_type]['X1'], mean_vectors.loc[class_type]['X2'], color=color, edgecolor='black', marker='D', s=100, label=f'{class_type} mean')\n",
    "\n",
    "# Add overall mean to the plot\n",
    "plt.scatter(overall_mean['X1'], overall_mean['X2'], color='green', edgecolor='black', marker='*', s=150, label='Overall mean')\n",
    "\n",
    "plt.xlabel('X1')\n",
    "plt.ylabel('X2')\n",
    "plt.legend()\n",
    "plt.grid(True)\n",
    "plt.show()\n"
   ]
  },
  {
   "cell_type": "code",
   "execution_count": 24,
   "metadata": {},
   "outputs": [
    {
     "name": "stdout",
     "output_type": "stream",
     "text": [
      "Between-class Scatter Matrix SB:\n",
      "[[72.9 54. ]\n",
      " [54.  40. ]]\n"
     ]
    }
   ],
   "source": [
    "# Initialize between-class scatter matrix\n",
    "SB = np.zeros((2,2))\n",
    "\n",
    "# Calculate between-class scatter matrix\n",
    "for class_type in ['class_1', 'class_2']:\n",
    "    n = len(df[df['class'] == class_type]) # number of samples in each class\n",
    "    mean_vector = mean_vectors.loc[class_type].values.reshape(2,1) # make column vector\n",
    "    overall_mean_vector = overall_mean.values.reshape(2,1) # make column vector\n",
    "    SB += n * (mean_vector - overall_mean_vector).dot((mean_vector - overall_mean_vector).T)\n",
    "\n",
    "print(\"Between-class Scatter Matrix SB:\")\n",
    "print(SB)\n"
   ]
  },
  {
   "attachments": {},
   "cell_type": "markdown",
   "metadata": {},
   "source": [
    "4. Compute the eigenvectors and eigenvalues: Find the eigenvectors and eigenvalues of the matrix (SW^-1 * SB). These eigenvectors represent the directions for the new feature space, and their corresponding eigenvalues signify the importance of each direction in maximizing the class separability.\n",
    "\n",
    "\n",
    "- A = (SW^-1 * SB)\n",
    "- det(A - λI) = 0 (λ is eigenvalues)\n",
    "- (A - λI)v = 0 (v is eigenvectors)"
   ]
  },
  {
   "cell_type": "code",
   "execution_count": 25,
   "metadata": {},
   "outputs": [],
   "source": [
    "# compute the eigenvectors and eigenvalues\n",
    "eig_vals, eig_vecs = np.linalg.eig(np.linalg.inv(SW).dot(SB))"
   ]
  },
  {
   "attachments": {},
   "cell_type": "markdown",
   "metadata": {},
   "source": [
    "5. Sort the eigenvectors by decreasing eigenvalues: Arrange the eigenvectors in descending order based on their eigenvalues. This ranks the eigenvectors according to their contribution to the class separation."
   ]
  },
  {
   "cell_type": "code",
   "execution_count": 29,
   "metadata": {},
   "outputs": [
    {
     "name": "stdout",
     "output_type": "stream",
     "text": [
      "Eigenvalues and eigenvectors (sorted by eigenvalue from high to low):\n",
      "Eigenvalue 1: 7.828425096030731\n",
      "Eigenvector 1: \n",
      "[[0.91955932]\n",
      " [0.39295122]]\n",
      "\n",
      "Eigenvalue 2: 2.220446049250313e-16\n",
      "Eigenvector 2: \n",
      "[[-0.59522755]\n",
      " [ 0.80355719]]\n",
      "\n"
     ]
    }
   ],
   "source": [
    "# Make a list of (eigenvalue, eigenvector) tuples\n",
    "eig_pairs = [(np.abs(eig_vals[i]), eig_vecs[:,i]) for i in range(len(eig_vals))]\n",
    "\n",
    "# Sort the (eigenvalue, eigenvector) tuples from high to low\n",
    "eig_pairs.sort(key=lambda x: x[0], reverse=True)\n",
    "\n",
    "# Print the sorted (eigenvalue, eigenvector) tuples\n",
    "print('Eigenvalues and eigenvectors (sorted by eigenvalue from high to low):')\n",
    "for i, pair in enumerate(eig_pairs):\n",
    "    print('Eigenvalue {}: {}'.format(i+1, pair[0]))\n",
    "    print('Eigenvector {}: \\n{}'.format(i+1, pair[1].reshape(2,1)))\n",
    "    print()\n"
   ]
  },
  {
   "attachments": {},
   "cell_type": "markdown",
   "metadata": {},
   "source": [
    "6. Select the top k eigenvectors: Choose the top k eigenvectors with the largest eigenvalues, where k is the number of dimensions you want to reduce your dataset to. "
   ]
  },
  {
   "cell_type": "code",
   "execution_count": 30,
   "metadata": {},
   "outputs": [
    {
     "name": "stdout",
     "output_type": "stream",
     "text": [
      "Matrix W (containing top k=1 eigenvectors):\n",
      "[[0.91955932]\n",
      " [0.39295122]]\n"
     ]
    }
   ],
   "source": [
    "# Number of discriminant vectors to keep\n",
    "k = 1\n",
    "\n",
    "# Get the top k eigenvectors\n",
    "W = np.hstack([pair[1].reshape(2,1) for pair in eig_pairs[:k]])\n",
    "\n",
    "print(\"Matrix W (containing top k={} eigenvectors):\".format(k))\n",
    "print(W)\n"
   ]
  },
  {
   "attachments": {},
   "cell_type": "markdown",
   "metadata": {},
   "source": [
    "7. Transform the dataset: Multiply the original dataset with the transformation matrix W to obtain the reduced-dimensional dataset. "
   ]
  },
  {
   "cell_type": "code",
   "execution_count": 31,
   "metadata": {},
   "outputs": [
    {
     "name": "stdout",
     "output_type": "stream",
     "text": [
      "         LD1    class\n",
      "0   4.071188  class_1\n",
      "1   3.410924  class_1\n",
      "2   3.017972  class_1\n",
      "3   5.116385  class_1\n",
      "4   5.250042  class_1\n",
      "5  12.205546  class_2\n",
      "6   8.660966  class_2\n",
      "7  10.240790  class_2\n",
      "8  10.107133  class_2\n",
      "9  12.339203  class_2\n"
     ]
    }
   ],
   "source": [
    "# Original data\n",
    "X = df[['X1', 'X2']].values\n",
    "\n",
    "# Transform the data using matrix W\n",
    "X_lda = X.dot(W)\n",
    "\n",
    "# Create a dataframe of the transformed data\n",
    "df_lda = pd.DataFrame(X_lda, columns=['LD1'])\n",
    "df_lda['class'] = df['class']\n",
    "\n",
    "print(df_lda)\n"
   ]
  },
  {
   "cell_type": "code",
   "execution_count": 33,
   "metadata": {},
   "outputs": [
    {
     "data": {
      "image/png": "[encoded data removed]",
      "text/plain": [
       "<Figure size 576x432 with 1 Axes>"
      ]
     },
     "metadata": {
      "needs_background": "light"
     },
     "output_type": "display_data"
    }
   ],
   "source": [
    "plt.figure(figsize=(8, 6))\n",
    "\n",
    "# Plot each class' points separately\n",
    "for class_type, color in zip(['class_1', 'class_2'], ['red', 'blue']):\n",
    "    plt.scatter(df_lda[df_lda['class'] == class_type]['LD1'], [0]*len(df_lda[df_lda['class'] == class_type]),\n",
    "                color=color, label=class_type, alpha=0.5, edgecolors='black')\n",
    "\n",
    "plt.title('Scatter plot of LDA transformed data')\n",
    "plt.xlabel('LD1')\n",
    "plt.yticks([]) # Hide the y-axis\n",
    "plt.legend()\n",
    "plt.grid(True)\n",
    "plt.show()\n"
   ]
  },
  {
   "cell_type": "code",
   "execution_count": 34,
   "metadata": {},
   "outputs": [
    {
     "data": {
      "image/png": "[encoded data removed]",
      "text/plain": [
       "<Figure size 576x432 with 1 Axes>"
      ]
     },
     "metadata": {
      "needs_background": "light"
     },
     "output_type": "display_data"
    }
   ],
   "source": [
    "plt.figure(figsize=(8, 6))\n",
    "\n",
    "# Plot each class' points separately\n",
    "for class_type, color in zip(['class_1', 'class_2'], ['red', 'blue']):\n",
    "    class_data = df_lda[df_lda['class'] == class_type]['LD1']\n",
    "    plt.scatter(class_data, [0]*len(class_data),\n",
    "                color=color, label=class_type, alpha=0.5, edgecolors='black')\n",
    "    \n",
    "    # Plot class mean\n",
    "    class_mean = class_data.mean()\n",
    "    plt.scatter(class_mean, 0, color=color, edgecolor='black', marker='D', s=100)\n",
    "    \n",
    "    # Plot standard deviation lines\n",
    "    plt.hlines(0, class_mean - class_data.std(), class_mean + class_data.std(), color=color, linestyles='dashed')\n",
    "\n",
    "plt.title('Scatter plot of LDA transformed data')\n",
    "plt.xlabel('LD1')\n",
    "plt.yticks([]) # Hide the y-axis\n",
    "plt.legend()\n",
    "plt.grid(True)\n",
    "plt.show()\n"
   ]
  },
  {
   "cell_type": "code",
   "execution_count": null,
   "metadata": {},
   "outputs": [],
   "source": []
  }
 ],
 "metadata": {
  "kernelspec": {
   "display_name": "coursera",
   "language": "python",
   "name": "python3"
  },
  "language_info": {
   "codemirror_mode": {
    "name": "ipython",
    "version": 3
   },
   "file_extension": ".py",
   "mimetype": "text/x-python",
   "name": "python",
   "nbconvert_exporter": "python",
   "pygments_lexer": "ipython3",
   "version": "3.7.13"
  },
  "orig_nbformat": 4
 },
 "nbformat": 4,
 "nbformat_minor": 2
}
