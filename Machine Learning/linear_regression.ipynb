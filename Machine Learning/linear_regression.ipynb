{
 "cells": [
  {
   "cell_type": "code",
   "execution_count": 41,
   "metadata": {},
   "outputs": [],
   "source": [
    "import pandas as pd\n",
    "\n",
    "from sklearn.datasets import load_boston\n",
    "from sklearn.model_selection import train_test_split\n",
    "\n",
    "import matplotlib.pyplot as plt\n",
    "import seaborn as sns\n",
    "\n",
    "import warnings\n",
    "warnings.filterwarnings('ignore')"
   ]
  },
  {
   "attachments": {},
   "cell_type": "markdown",
   "metadata": {},
   "source": [
    "## Linear Regression With One Column"
   ]
  },
  {
   "cell_type": "code",
   "execution_count": 37,
   "metadata": {},
   "outputs": [],
   "source": [
    "boston = load_boston()\n",
    "data = pd.DataFrame(boston.data)\n",
    "data.columns = boston.feature_names\n",
    "data['target'] = boston.target"
   ]
  },
  {
   "cell_type": "code",
   "execution_count": 39,
   "metadata": {},
   "outputs": [
    {
     "data": {
      "text/html": [
       "<div>\n",
       "<style scoped>\n",
       "    .dataframe tbody tr th:only-of-type {\n",
       "        vertical-align: middle;\n",
       "    }\n",
       "\n",
       "    .dataframe tbody tr th {\n",
       "        vertical-align: top;\n",
       "    }\n",
       "\n",
       "    .dataframe thead th {\n",
       "        text-align: right;\n",
       "    }\n",
       "</style>\n",
       "<table border=\"1\" class=\"dataframe\">\n",
       "  <thead>\n",
       "    <tr style=\"text-align: right;\">\n",
       "      <th></th>\n",
       "      <th>CRIM</th>\n",
       "      <th>ZN</th>\n",
       "      <th>INDUS</th>\n",
       "      <th>CHAS</th>\n",
       "      <th>NOX</th>\n",
       "      <th>RM</th>\n",
       "      <th>AGE</th>\n",
       "      <th>DIS</th>\n",
       "      <th>RAD</th>\n",
       "      <th>TAX</th>\n",
       "      <th>PTRATIO</th>\n",
       "      <th>B</th>\n",
       "      <th>LSTAT</th>\n",
       "      <th>target</th>\n",
       "    </tr>\n",
       "  </thead>\n",
       "  <tbody>\n",
       "    <tr>\n",
       "      <th>0</th>\n",
       "      <td>0.00632</td>\n",
       "      <td>18.0</td>\n",
       "      <td>2.31</td>\n",
       "      <td>0.0</td>\n",
       "      <td>0.538</td>\n",
       "      <td>6.575</td>\n",
       "      <td>65.2</td>\n",
       "      <td>4.0900</td>\n",
       "      <td>1.0</td>\n",
       "      <td>296.0</td>\n",
       "      <td>15.3</td>\n",
       "      <td>396.90</td>\n",
       "      <td>4.98</td>\n",
       "      <td>24.0</td>\n",
       "    </tr>\n",
       "    <tr>\n",
       "      <th>1</th>\n",
       "      <td>0.02731</td>\n",
       "      <td>0.0</td>\n",
       "      <td>7.07</td>\n",
       "      <td>0.0</td>\n",
       "      <td>0.469</td>\n",
       "      <td>6.421</td>\n",
       "      <td>78.9</td>\n",
       "      <td>4.9671</td>\n",
       "      <td>2.0</td>\n",
       "      <td>242.0</td>\n",
       "      <td>17.8</td>\n",
       "      <td>396.90</td>\n",
       "      <td>9.14</td>\n",
       "      <td>21.6</td>\n",
       "    </tr>\n",
       "    <tr>\n",
       "      <th>2</th>\n",
       "      <td>0.02729</td>\n",
       "      <td>0.0</td>\n",
       "      <td>7.07</td>\n",
       "      <td>0.0</td>\n",
       "      <td>0.469</td>\n",
       "      <td>7.185</td>\n",
       "      <td>61.1</td>\n",
       "      <td>4.9671</td>\n",
       "      <td>2.0</td>\n",
       "      <td>242.0</td>\n",
       "      <td>17.8</td>\n",
       "      <td>392.83</td>\n",
       "      <td>4.03</td>\n",
       "      <td>34.7</td>\n",
       "    </tr>\n",
       "    <tr>\n",
       "      <th>3</th>\n",
       "      <td>0.03237</td>\n",
       "      <td>0.0</td>\n",
       "      <td>2.18</td>\n",
       "      <td>0.0</td>\n",
       "      <td>0.458</td>\n",
       "      <td>6.998</td>\n",
       "      <td>45.8</td>\n",
       "      <td>6.0622</td>\n",
       "      <td>3.0</td>\n",
       "      <td>222.0</td>\n",
       "      <td>18.7</td>\n",
       "      <td>394.63</td>\n",
       "      <td>2.94</td>\n",
       "      <td>33.4</td>\n",
       "    </tr>\n",
       "    <tr>\n",
       "      <th>4</th>\n",
       "      <td>0.06905</td>\n",
       "      <td>0.0</td>\n",
       "      <td>2.18</td>\n",
       "      <td>0.0</td>\n",
       "      <td>0.458</td>\n",
       "      <td>7.147</td>\n",
       "      <td>54.2</td>\n",
       "      <td>6.0622</td>\n",
       "      <td>3.0</td>\n",
       "      <td>222.0</td>\n",
       "      <td>18.7</td>\n",
       "      <td>396.90</td>\n",
       "      <td>5.33</td>\n",
       "      <td>36.2</td>\n",
       "    </tr>\n",
       "  </tbody>\n",
       "</table>\n",
       "</div>"
      ],
      "text/plain": [
       "      CRIM    ZN  INDUS  CHAS    NOX     RM   AGE     DIS  RAD    TAX  \\\n",
       "0  0.00632  18.0   2.31   0.0  0.538  6.575  65.2  4.0900  1.0  296.0   \n",
       "1  0.02731   0.0   7.07   0.0  0.469  6.421  78.9  4.9671  2.0  242.0   \n",
       "2  0.02729   0.0   7.07   0.0  0.469  7.185  61.1  4.9671  2.0  242.0   \n",
       "3  0.03237   0.0   2.18   0.0  0.458  6.998  45.8  6.0622  3.0  222.0   \n",
       "4  0.06905   0.0   2.18   0.0  0.458  7.147  54.2  6.0622  3.0  222.0   \n",
       "\n",
       "   PTRATIO       B  LSTAT  target  \n",
       "0     15.3  396.90   4.98    24.0  \n",
       "1     17.8  396.90   9.14    21.6  \n",
       "2     17.8  392.83   4.03    34.7  \n",
       "3     18.7  394.63   2.94    33.4  \n",
       "4     18.7  396.90   5.33    36.2  "
      ]
     },
     "execution_count": 39,
     "metadata": {},
     "output_type": "execute_result"
    }
   ],
   "source": [
    "data.head()"
   ]
  },
  {
   "cell_type": "code",
   "execution_count": 48,
   "metadata": {},
   "outputs": [],
   "source": [
    "X, y = data[\"DIS\"], data[\"target\"]"
   ]
  },
  {
   "cell_type": "code",
   "execution_count": 52,
   "metadata": {},
   "outputs": [
    {
     "data": {
      "text/plain": [
       "Text(0.5, 1.0, 'Linear regression with DIS column')"
      ]
     },
     "execution_count": 52,
     "metadata": {},
     "output_type": "execute_result"
    },
    {
     "data": {
      "image/png": "[encoded data removed]",
      "text/plain": [
       "<Figure size 720x360 with 1 Axes>"
      ]
     },
     "metadata": {
      "needs_background": "light"
     },
     "output_type": "display_data"
    }
   ],
   "source": [
    "plt.figure(figsize = (10,5))\n",
    "sns.scatterplot(x=X,y=y)\n",
    "plt.title('Linear regression with DIS column', fontsize = 20)"
   ]
  },
  {
   "cell_type": "code",
   "execution_count": 122,
   "metadata": {},
   "outputs": [],
   "source": [
    "X_train, X_test, y_train, y_test = train_test_split(list(X), list(y), test_size = 0.3, random_state = 31)"
   ]
  },
  {
   "cell_type": "code",
   "execution_count": 123,
   "metadata": {},
   "outputs": [],
   "source": [
    "import numpy as np"
   ]
  },
  {
   "cell_type": "code",
   "execution_count": 139,
   "metadata": {},
   "outputs": [],
   "source": [
    "def f_wb(x, w, b):\n",
    "    return w * x + b\n",
    "\n",
    "def cost_function(x, y, w, b):\n",
    "    m = len(x)\n",
    "    mean_of_sum = (1/(2 * m))\n",
    "    sum_of_squared_error = 0\n",
    "\n",
    "    for i in range(m):\n",
    "        sum_of_squared_error += (f_wb(x[i], w, b) - y[i])**2\n",
    "\n",
    "    return mean_of_sum * sum_of_squared_error\n",
    "\n",
    "def derivative_cost_function(x, y, w, b):\n",
    "    m = len(x)\n",
    "\n",
    "    mean_of_sum = 1/m\n",
    "    d_cost_w = 0\n",
    "    d_cost_b = 0\n",
    "\n",
    "    for i in range(m):\n",
    "        f_wb_i = f_wb(x[i], w, b)\n",
    "\n",
    "        d_cost_w += (f_wb_i - y[i]) * x[i]\n",
    "        d_cost_b += (f_wb_i - y[i])\n",
    "    \n",
    "    d_cost_w = mean_of_sum * d_cost_w\n",
    "    d_cost_b = mean_of_sum * d_cost_b\n",
    "\n",
    "\n",
    "    return d_cost_w, d_cost_b\n",
    "\n",
    "\n",
    "def gradient_descent(x, y, learning_rate, batch=10):\n",
    "    w = 0\n",
    "    b = 0\n",
    "\n",
    "    for i in range(batch):\n",
    "\n",
    "        d_cost_w, d_cost_b = derivative_cost_function(x, y, w, b)\n",
    "        \n",
    "        temp_w = w - learning_rate * d_cost_w\n",
    "        temp_b = b - learning_rate * d_cost_b\n",
    "\n",
    "        w = temp_w\n",
    "        b = temp_b\n",
    "\n",
    "        print(f\"Iteration {i}: Cost: {cost_function(x, y, w, b)}, d_jw: {d_cost_w}, d_jb: {d_cost_b}, w: {w}, b: {b}\")\n",
    "    \n",
    "    return w, b"
   ]
  },
  {
   "cell_type": "code",
   "execution_count": 140,
   "metadata": {},
   "outputs": [
    {
     "name": "stdout",
     "output_type": "stream",
     "text": [
      "Iteration 0: Cost: 226.30620587195708, d_jw: -91.17842237288139, d_jb: -22.962146892655372, w: 0.9117842237288138, b: 0.22962146892655372\n",
      "Iteration 1: Cost: 174.92895454535142, d_jw: -72.99086371997782, d_jb: -19.26727273964672, w: 1.6416928609285921, b: 0.4222941963230209\n",
      "Iteration 2: Cost: 141.78224865098557, d_jw: -58.39756590248972, d_jb: -16.30056883429527, w: 2.2256685199534894, b: 0.5852998846659736\n",
      "Iteration 3: Cost: 120.37350273894356, d_jw: -46.68830077384963, d_jb: -13.91815293111129, w: 2.6925515276919856, b: 0.7244814139770865\n",
      "Iteration 4: Cost: 106.52249554019694, d_jw: -37.29318152862787, d_jb: -12.004573958179444, w: 3.0654833429782644, b: 0.844527153558881\n",
      "Iteration 5: Cost: 97.5378103213729, d_jw: -29.754931202676744, d_jb: -10.467194006984064, w: 3.363032655005032, b: 0.9491990936287216\n",
      "Iteration 6: Cost: 91.68658997783427, d_jw: -23.706630927692807, d_jb: -9.231680443080428, w: 3.60009896428196, b: 1.0415158980595258\n",
      "Iteration 7: Cost: 87.85314140684073, d_jw: -18.85386513873881, d_jb: -8.238388777330199, w: 3.788637615669348, b: 1.123899785832828\n",
      "Iteration 8: Cost: 85.31912957917609, d_jw: -14.960394895227765, d_jb: -7.439460283091232, w: 3.9382415646216256, b: 1.1982943886637403\n",
      "Iteration 9: Cost: 83.62205655190235, d_jw: -11.836662158870585, d_jb: -6.796493125302021, w: 4.056608186210331, b: 1.2662593199167604\n",
      "Iteration 10: Cost: 82.46414386301944, d_jw: -9.33056563046602, d_jb: -6.278673675302709, w: 4.149913842514992, b: 1.3290460566697875\n",
      "Iteration 11: Cost: 81.6536669005479, d_jw: -7.320059284682585, d_jb: -5.861277078524372, w: 4.2231144353618175, b: 1.3876588274550312\n",
      "Iteration 12: Cost: 81.06718331888416, d_jw: -5.707213437048943, d_jb: -5.524464110546081, w: 4.280186569732307, b: 1.442903468560492\n",
      "Iteration 13: Cost: 80.62521398675183, d_jw: -4.4134493462584325, d_jb: -5.252315774830903, w: 4.324321063194891, b: 1.495426626308801\n",
      "Iteration 14: Cost: 80.27658528276295, d_jw: -3.3757154607847704, d_jb: -5.032058664298928, w: 4.358078217802739, b: 1.5457472129517902\n",
      "Iteration 15: Cost: 79.98834795787715, d_jw: -2.5434192405516165, d_jb: -4.853443391734052, w: 4.383512410208255, b: 1.5942816468691308\n",
      "Iteration 16: Cost: 79.7392864435728, d_jw: -1.8759652517518497, d_jb: -4.708245842567542, w: 4.402272062725774, b: 1.6413641052948063\n",
      "Iteration 17: Cost: 79.51573985117756, d_jw: -1.3407797350224138, d_jb: -4.589866980292138, w: 4.415679860075998, b: 1.6872627750977276\n",
      "Iteration 18: Cost: 79.3089113424083, d_jw: -0.9117255196634645, d_jb: -4.4930117304713235, w: 4.424797115272632, b: 1.7321928924024408\n",
      "Iteration 19: Cost: 79.11313578053657, d_jw: -0.5678301513821191, d_jb: -4.413431317384573, w: 4.430475416786454, b: 1.7763272055762864\n",
      "Iteration 20: Cost: 78.92476436591552, d_jw: -0.29226534245469554, d_jb: -4.347716515044853, w: 4.433398070211001, b: 1.819804370726735\n",
      "Iteration 21: Cost: 78.74144651391394, d_jw: -0.07152808290681632, d_jb: -4.293131751889869, w: 4.434113351040069, b: 1.8627356882456338\n",
      "Iteration 22: Cost: 78.56166749545726, d_jw: 0.10521643557919722, d_jb: -4.247481996446411, w: 4.433061186684277, b: 1.9052105082100979\n",
      "Iteration 23: Cost: 78.38445074909235, d_jw: 0.2466620572828932, d_jb: -4.209005946435534, w: 4.4305945661114485, b: 1.9473005676744533\n",
      "Iteration 24: Cost: 78.209166216017, d_jw: 0.35978471771979076, d_jb: -4.176290323749271, w: 4.426996718934251, b: 1.989063470911946\n",
      "Iteration 25: Cost: 78.03540693748548, d_jw: 0.45018190304007893, d_jb: -4.148201104770885, w: 4.42249489990385, b: 2.030545481959655\n",
      "Iteration 26: Cost: 77.86290960261539, d_jw: 0.5223450321271398, d_jb: -4.123828339608735, w: 4.417271449582578, b: 2.0717837653557423\n",
      "Iteration 27: Cost: 77.69150339344914, d_jw: 0.5798780158947243, d_jb: -4.10244187506945, w: 4.41147266942363, b: 2.1128081841064366\n",
      "Iteration 28: Cost: 77.52107704906504, d_jw: 0.6256726291878185, d_jb: -4.083455826787613, w: 4.405215943131752, b: 2.1536427423743127\n",
      "Iteration 29: Cost: 77.3515576599383, d_jw: 0.6620492291323241, d_jb: -4.066400071675411, w: 4.398595450840429, b: 2.194306743091067\n",
      "Iteration 30: Cost: 77.1828970147643, d_jw: 0.6908696674878481, d_jb: -4.050897373474539, w: 4.39168675416555, b: 2.2348157168258123\n",
      "Iteration 31: Cost: 77.01506280990067, d_jw: 0.7136278914787412, d_jb: -4.036645028307275, w: 4.384550475250763, b: 2.275182167108885\n",
      "Iteration 32: Cost: 76.84803298958094, d_jw: 0.7315226418680358, d_jb: -4.02340013707322, w: 4.377235248832083, b: 2.3154161684796173\n",
      "Iteration 33: Cost: 76.68179210186318, d_jw: 0.7455157858655936, d_jb: -4.010967788025815, w: 4.369780090973427, b: 2.3555258463598756\n",
      "Iteration 34: Cost: 76.51632895239744, d_jw: 0.7563791234325284, d_jb: -3.999191574475868, w: 4.362216299739101, b: 2.3955177621046344\n",
      "Iteration 35: Cost: 76.35163509378904, d_jw: 0.7647319446428827, d_jb: -3.987945986200335, w: 4.354568980292672, b: 2.4353972219666375\n",
      "Iteration 36: Cost: 76.18770385295633, d_jw: 0.7710711656969879, d_jb: -3.977130304311366, w: 4.346858268635702, b: 2.4751685250097513\n",
      "Iteration 37: Cost: 76.02452970487332, d_jw: 0.7757955100476932, d_jb: -3.966663702501432, w: 4.3391003135352255, b: 2.5148351620347658\n",
      "Iteration 38: Cost: 75.86210786933081, d_jw: 0.7792249113273059, d_jb: -3.9564813162841044, w: 4.331308064421952, b: 2.5543999751976068\n",
      "Iteration 39: Cost: 75.70043405128703, d_jw: 0.7816160822490403, d_jb: -3.946531088954286, w: 4.323491903599462, b: 2.5938652860871496\n",
      "Iteration 40: Cost: 75.53950427366814, d_jw: 0.783175007087993, d_jb: -3.9367712407876887, w: 4.315660153528582, b: 2.6332329984950267\n",
      "Iteration 41: Cost: 75.37931476969123, d_jw: 0.7840669656432746, d_jb: -3.9271682383275146, w: 4.30781948387215, b: 2.6725046808783017\n",
      "Iteration 42: Cost: 75.21986191351189, d_jw: 0.7844245764615914, d_jb: -3.917695164940606, w: 4.299975238107534, b: 2.711681632527708\n",
      "Iteration 43: Cost: 75.06114217554685, d_jw: 0.7843542507169241, d_jb: -3.908330413352387, w: 4.292131695600364, b: 2.750764936661232\n",
      "Iteration 44: Cost: 74.90315209368237, d_jw: 0.7839413708013153, d_jb: -3.899056636537206, w: 4.284292281892351, b: 2.789755503026604\n",
      "Iteration 45: Cost: 74.7458882547122, d_jw: 0.7832544456240659, d_jb: -3.8898599059131733, w: 4.27645973743611, b: 2.8286541020857356\n",
      "Iteration 46: Cost: 74.58934728236181, d_jw: 0.782348444822453, d_jb: -3.880729035877895, w: 4.268636252987886, b: 2.8674613924445147\n",
      "Iteration 47: Cost: 74.43352582955197, d_jw: 0.7812674741310822, d_jb: -3.871655041816144, w: 4.260823578246574, b: 2.906177942862676\n",
      "Iteration 48: Cost: 74.27842057339325, d_jw: 0.7800469220973674, d_jb: -3.8626307052054027, w: 4.253023109025601, b: 2.9448042499147298\n",
      "Iteration 49: Cost: 74.12402821193866, d_jw: 0.7787151826051752, d_jb: -3.8536502246566164, w: 4.245235957199549, b: 2.983340752161296\n"
     ]
    }
   ],
   "source": [
    "learning_rate = 0.01\n",
    "batch = 50\n",
    "w, b = gradient_descent(X_train, y_train, learning_rate, batch)"
   ]
  },
  {
   "cell_type": "code",
   "execution_count": 154,
   "metadata": {},
   "outputs": [],
   "source": [
    "y_hat = np.dot(w,X_test) + b"
   ]
  },
  {
   "cell_type": "code",
   "execution_count": 155,
   "metadata": {},
   "outputs": [
    {
     "data": {
      "text/plain": [
       "Text(0.5, 1.0, 'Linear regression with DIS column')"
      ]
     },
     "execution_count": 155,
     "metadata": {},
     "output_type": "execute_result"
    },
    {
     "data": {
      "image/png": "[encoded data removed]",
      "text/plain": [
       "<Figure size 720x360 with 1 Axes>"
      ]
     },
     "metadata": {
      "needs_background": "light"
     },
     "output_type": "display_data"
    }
   ],
   "source": [
    "plt.figure(figsize = (10,5))\n",
    "sns.scatterplot(x=X_test,y=y_hat)\n",
    "sns.scatterplot(x=X_test,y=y_test)\n",
    "plt.title('Linear regression with DIS column', fontsize = 20)"
   ]
  },
  {
   "cell_type": "code",
   "execution_count": null,
   "metadata": {},
   "outputs": [],
   "source": []
  }
 ],
 "metadata": {
  "kernelspec": {
   "display_name": "coursera",
   "language": "python",
   "name": "python3"
  },
  "language_info": {
   "codemirror_mode": {
    "name": "ipython",
    "version": 3
   },
   "file_extension": ".py",
   "mimetype": "text/x-python",
   "name": "python",
   "nbconvert_exporter": "python",
   "pygments_lexer": "ipython3",
   "version": "3.7.13"
  },
  "orig_nbformat": 4,
  "vscode": {
   "interpreter": {
    "hash": "be561da172f33ee1251194242ad49dea3f1840ae75dd2b1b1f6dca502e8bbcb8"
   }
  }
 },
 "nbformat": 4,
 "nbformat_minor": 2
}
